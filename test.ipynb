{
 "cells": [
  {
   "cell_type": "code",
   "id": "initial_id",
   "metadata": {
    "collapsed": true,
    "ExecuteTime": {
     "end_time": "2024-12-13T17:08:34.022576Z",
     "start_time": "2024-12-13T17:08:24.146053Z"
    }
   },
   "source": [
    "import tensorflow as tf\n",
    "import os\n",
    "import pandas as pd\n",
    "import numpy as np\n",
    "import matplotlib\n",
    "import keras\n",
    "\n",
    "df = pd.read_csv('weather.csv')\n",
    "\n",
    "# print(df.head())\n",
    "\n",
    "df = df[5::6]\n",
    "# print(df.head())\n",
    "\n",
    "# Handle dates\n",
    "df.index = pd.to_datetime(df['Date Time'], format='%d.%m.%Y %H:%M:%S')\n",
    "print(df[:26])\n"
   ],
   "outputs": [
    {
     "name": "stdout",
     "output_type": "stream",
     "text": [
      "                               Date Time  p (mbar)  T (degC)  Tpot (K)  \\\n",
      "Date Time                                                                \n",
      "2009-01-01 01:00:00  01.01.2009 01:00:00    996.50     -8.05    265.38   \n",
      "2009-01-01 02:00:00  01.01.2009 02:00:00    996.62     -8.88    264.54   \n",
      "2009-01-01 03:00:00  01.01.2009 03:00:00    996.84     -8.81    264.59   \n",
      "2009-01-01 04:00:00  01.01.2009 04:00:00    996.99     -9.05    264.34   \n",
      "2009-01-01 05:00:00  01.01.2009 05:00:00    997.46     -9.63    263.72   \n",
      "2009-01-01 06:00:00  01.01.2009 06:00:00    997.71     -9.67    263.66   \n",
      "2009-01-01 07:00:00  01.01.2009 07:00:00    998.33     -9.17    264.12   \n",
      "2009-01-01 08:00:00  01.01.2009 08:00:00    999.17     -8.10    265.12   \n",
      "2009-01-01 09:00:00  01.01.2009 09:00:00    999.69     -7.66    265.52   \n",
      "2009-01-01 10:00:00  01.01.2009 10:00:00   1000.27     -7.04    266.10   \n",
      "2009-01-01 11:00:00  01.01.2009 11:00:00   1000.87     -7.41    265.68   \n",
      "2009-01-01 12:00:00  01.01.2009 12:00:00   1000.30     -6.87    266.27   \n",
      "2009-01-01 13:00:00  01.01.2009 13:00:00   1000.03     -5.89    267.27   \n",
      "2009-01-01 14:00:00  01.01.2009 14:00:00    999.81     -5.94    267.24   \n",
      "2009-01-01 15:00:00  01.01.2009 15:00:00    999.88     -5.69    267.48   \n",
      "2009-01-01 16:00:00  01.01.2009 16:00:00    999.94     -5.40    267.76   \n",
      "2009-01-01 17:00:00  01.01.2009 17:00:00   1000.17     -5.37    267.78   \n",
      "2009-01-01 18:00:00  01.01.2009 18:00:00   1000.16     -5.25    267.90   \n",
      "2009-01-01 19:00:00  01.01.2009 19:00:00   1000.22     -5.11    268.03   \n",
      "2009-01-01 20:00:00  01.01.2009 20:00:00   1000.22     -4.90    268.24   \n",
      "2009-01-01 21:00:00  01.01.2009 21:00:00   1000.19     -4.80    268.35   \n",
      "2009-01-01 22:00:00  01.01.2009 22:00:00   1000.00     -4.50    268.66   \n",
      "2009-01-01 23:00:00  01.01.2009 23:00:00    999.77     -4.47    268.71   \n",
      "2009-01-02 00:00:00  02.01.2009 00:00:00    999.59     -4.54    268.65   \n",
      "2009-01-02 01:00:00  02.01.2009 01:00:00    999.34     -4.44    268.77   \n",
      "2009-01-02 02:00:00  02.01.2009 02:00:00    998.93     -4.29    268.95   \n",
      "\n",
      "                     Tdew (degC)  rh (%)  VPmax (mbar)  VPact (mbar)  \\\n",
      "Date Time                                                              \n",
      "2009-01-01 01:00:00        -8.78    94.4          3.33          3.14   \n",
      "2009-01-01 02:00:00        -9.77    93.2          3.12          2.90   \n",
      "2009-01-01 03:00:00        -9.66    93.5          3.13          2.93   \n",
      "2009-01-01 04:00:00       -10.02    92.6          3.07          2.85   \n",
      "2009-01-01 05:00:00       -10.65    92.2          2.94          2.71   \n",
      "2009-01-01 06:00:00       -10.62    92.7          2.93          2.71   \n",
      "2009-01-01 07:00:00       -10.10    92.9          3.04          2.83   \n",
      "2009-01-01 08:00:00        -9.05    92.8          3.31          3.07   \n",
      "2009-01-01 09:00:00        -8.84    91.2          3.43          3.13   \n",
      "2009-01-01 10:00:00        -8.17    91.6          3.60          3.30   \n",
      "2009-01-01 11:00:00        -8.66    90.7          3.50          3.17   \n",
      "2009-01-01 12:00:00        -8.28    89.6          3.64          3.27   \n",
      "2009-01-01 13:00:00        -7.46    88.6          3.93          3.48   \n",
      "2009-01-01 14:00:00        -7.43    89.1          3.92          3.49   \n",
      "2009-01-01 15:00:00        -7.00    90.4          3.99          3.61   \n",
      "2009-01-01 16:00:00        -6.86    89.4          4.08          3.65   \n",
      "2009-01-01 17:00:00        -6.82    89.4          4.09          3.66   \n",
      "2009-01-01 18:00:00        -6.75    89.1          4.13          3.68   \n",
      "2009-01-01 19:00:00        -6.57    89.4          4.17          3.73   \n",
      "2009-01-01 20:00:00        -6.38    89.3          4.24          3.79   \n",
      "2009-01-01 21:00:00        -6.14    90.2          4.27          3.85   \n",
      "2009-01-01 22:00:00        -5.82    90.4          4.37          3.95   \n",
      "2009-01-01 23:00:00        -5.84    90.1          4.38          3.95   \n",
      "2009-01-02 00:00:00        -5.46    93.2          4.36          4.06   \n",
      "2009-01-02 01:00:00        -5.19    94.4          4.39          4.15   \n",
      "2009-01-02 02:00:00        -5.04    94.5          4.44          4.20   \n",
      "\n",
      "                     VPdef (mbar)  sh (g/kg)  H2OC (mmol/mol)  rho (g/m**3)  \\\n",
      "Date Time                                                                     \n",
      "2009-01-01 01:00:00          0.19       1.96             3.15       1307.86   \n",
      "2009-01-01 02:00:00          0.21       1.81             2.91       1312.25   \n",
      "2009-01-01 03:00:00          0.20       1.83             2.94       1312.18   \n",
      "2009-01-01 04:00:00          0.23       1.78             2.85       1313.61   \n",
      "2009-01-01 05:00:00          0.23       1.69             2.71       1317.19   \n",
      "2009-01-01 06:00:00          0.21       1.69             2.72       1317.71   \n",
      "2009-01-01 07:00:00          0.22       1.76             2.83       1315.98   \n",
      "2009-01-01 08:00:00          0.24       1.92             3.08       1311.65   \n",
      "2009-01-01 09:00:00          0.30       1.95             3.13       1310.14   \n",
      "2009-01-01 10:00:00          0.30       2.05             3.29       1307.76   \n",
      "2009-01-01 11:00:00          0.33       1.97             3.17       1310.43   \n",
      "2009-01-01 12:00:00          0.38       2.03             3.26       1306.98   \n",
      "2009-01-01 13:00:00          0.45       2.17             3.48       1301.73   \n",
      "2009-01-01 14:00:00          0.43       2.17             3.49       1301.67   \n",
      "2009-01-01 15:00:00          0.38       2.25             3.61       1300.51   \n",
      "2009-01-01 16:00:00          0.43       2.27             3.65       1299.17   \n",
      "2009-01-01 17:00:00          0.43       2.28             3.66       1299.27   \n",
      "2009-01-01 18:00:00          0.45       2.29             3.68       1298.68   \n",
      "2009-01-01 19:00:00          0.44       2.32             3.73       1298.07   \n",
      "2009-01-01 20:00:00          0.45       2.36             3.78       1297.05   \n",
      "2009-01-01 21:00:00          0.42       2.40             3.85       1296.45   \n",
      "2009-01-01 22:00:00          0.42       2.46             3.95       1294.72   \n",
      "2009-01-01 23:00:00          0.43       2.46             3.95       1294.29   \n",
      "2009-01-02 00:00:00          0.30       2.53             4.06       1294.33   \n",
      "2009-01-02 01:00:00          0.25       2.58             4.15       1293.47   \n",
      "2009-01-02 02:00:00          0.24       2.62             4.20       1292.22   \n",
      "\n",
      "                     wv (m/s)  max. wv (m/s)  wd (deg)  \n",
      "Date Time                                               \n",
      "2009-01-01 01:00:00      0.21           0.63     192.7  \n",
      "2009-01-01 02:00:00      0.25           0.63     190.3  \n",
      "2009-01-01 03:00:00      0.18           0.63     167.2  \n",
      "2009-01-01 04:00:00      0.10           0.38     240.0  \n",
      "2009-01-01 05:00:00      0.40           0.88     157.0  \n",
      "2009-01-01 06:00:00      0.05           0.50     146.0  \n",
      "2009-01-01 07:00:00      2.08           2.88     348.8  \n",
      "2009-01-01 08:00:00      0.72           1.25     213.9  \n",
      "2009-01-01 09:00:00      0.34           0.63     202.2  \n",
      "2009-01-01 10:00:00      1.45           3.00     292.6  \n",
      "2009-01-01 11:00:00      1.91           3.38     269.6  \n",
      "2009-01-01 12:00:00      1.84           2.63     184.4  \n",
      "2009-01-01 13:00:00      0.57           1.25     187.3  \n",
      "2009-01-01 14:00:00      1.25           2.00     144.0  \n",
      "2009-01-01 15:00:00      1.17           1.88     134.9  \n",
      "2009-01-01 16:00:00      1.40           2.13     145.5  \n",
      "2009-01-01 17:00:00      0.85           1.63     142.2  \n",
      "2009-01-01 18:00:00      0.55           1.00     183.7  \n",
      "2009-01-01 19:00:00      0.41           0.75     176.7  \n",
      "2009-01-01 20:00:00      0.68           1.13     195.2  \n",
      "2009-01-01 21:00:00      0.44           0.75     206.3  \n",
      "2009-01-01 22:00:00      0.33           0.63     175.7  \n",
      "2009-01-01 23:00:00      0.65           1.00     219.3  \n",
      "2009-01-02 00:00:00      0.41           0.88     155.0  \n",
      "2009-01-02 01:00:00      0.28           1.00     148.1  \n",
      "2009-01-02 02:00:00      0.49           0.88     209.8  \n"
     ]
    }
   ],
   "execution_count": 3
  },
  {
   "metadata": {
    "ExecuteTime": {
     "end_time": "2024-12-13T17:08:34.496713Z",
     "start_time": "2024-12-13T17:08:34.024106Z"
    }
   },
   "cell_type": "code",
   "source": [
    "temp = df['T (degC)']\n",
    "temp.plot()"
   ],
   "id": "644e9e81dbd52f86",
   "outputs": [
    {
     "data": {
      "text/plain": [
       "<Axes: xlabel='Date Time'>"
      ]
     },
     "execution_count": 4,
     "metadata": {},
     "output_type": "execute_result"
    },
    {
     "data": {
      "text/plain": [
       "<Figure size 640x480 with 1 Axes>"
      ],
      "image/png": "[encoded data removed]"
     },
     "metadata": {},
     "output_type": "display_data"
    }
   ],
   "execution_count": 4
  },
  {
   "metadata": {
    "ExecuteTime": {
     "end_time": "2024-12-13T17:08:34.505382Z",
     "start_time": "2024-12-13T17:08:34.498724Z"
    }
   },
   "cell_type": "code",
   "source": [
    "def df_to_X_y(df, window_size=5):\n",
    "    df_as_np = df.to_numpy()\n",
    "    X = []\n",
    "    y = []\n",
    "    for i in range(len(df_as_np) - window_size):\n",
    "        row = [[a] for a in df_as_np[i:i+window_size]]\n",
    "        X.append(row)\n",
    "        label = df_as_np[i+window_size]\n",
    "        y.append(label)\n",
    "    return np.array(X), np.array(y)\n"
   ],
   "id": "1faf6ab02610ae08",
   "outputs": [],
   "execution_count": 5
  },
  {
   "metadata": {
    "ExecuteTime": {
     "end_time": "2024-12-13T17:08:35.484361Z",
     "start_time": "2024-12-13T17:08:34.507395Z"
    }
   },
   "cell_type": "code",
   "source": [
    "WINDOW_SIZE = 5\n",
    "X, y = df_to_X_y(temp, window_size=WINDOW_SIZE)\n",
    "X.shape, y.shape"
   ],
   "id": "478911c7f518ad41",
   "outputs": [
    {
     "data": {
      "text/plain": [
       "((70086, 5, 1), (70086,))"
      ]
     },
     "execution_count": 6,
     "metadata": {},
     "output_type": "execute_result"
    }
   ],
   "execution_count": 6
  },
  {
   "metadata": {
    "ExecuteTime": {
     "end_time": "2024-12-13T17:08:35.493192Z",
     "start_time": "2024-12-13T17:08:35.485372Z"
    }
   },
   "cell_type": "code",
   "source": [
    "X_train, y_train = X[:60000], y[:60000]\n",
    "X_val, y_val = X[60000:65000], y[60000:65000]\n",
    "X_test, y_test = X[65000:], y[65000:]\n",
    "\n",
    "X_train.shape, y_train.shape, X_val.shape, y_val.shape, X_test.shape, y_test.shape"
   ],
   "id": "2f0edd08d9d6319a",
   "outputs": [
    {
     "data": {
      "text/plain": [
       "((60000, 5, 1), (60000,), (5000, 5, 1), (5000,), (5086, 5, 1), (5086,))"
      ]
     },
     "execution_count": 7,
     "metadata": {},
     "output_type": "execute_result"
    }
   ],
   "execution_count": 7
  },
  {
   "metadata": {
    "ExecuteTime": {
     "end_time": "2024-12-13T17:08:35.751930Z",
     "start_time": "2024-12-13T17:08:35.495328Z"
    }
   },
   "cell_type": "code",
   "source": [
    "from tensorflow.keras.models import Sequential\n",
    "from tensorflow.keras.layers import *\n",
    "from tensorflow.keras.callbacks import ModelCheckpoint\n",
    "from tensorflow.keras.losses import MeanSquaredError\n",
    "from tensorflow.keras.metrics import RootMeanSquaredError\n",
    "from tensorflow.keras.optimizers import Adam\n",
    "\n",
    "model1 = Sequential()\n",
    "model1.add(InputLayer((5,1)))\n",
    "model1.add(LSTM(64))\n",
    "model1.add(Dense(8, 'relu'))\n",
    "model1.add(Dense(1, 'linear'))\n",
    "model1.summary()"
   ],
   "id": "4acc45b360f55f7f",
   "outputs": [
    {
     "data": {
      "text/plain": [
       "\u001B[1mModel: \"sequential\"\u001B[0m\n"
      ],
      "text/html": [
       "<pre style=\"white-space:pre;overflow-x:auto;line-height:normal;font-family:Menlo,'DejaVu Sans Mono',consolas,'Courier New',monospace\"><span style=\"font-weight: bold\">Model: \"sequential\"</span>\n",
       "</pre>\n"
      ]
     },
     "metadata": {},
     "output_type": "display_data"
    },
    {
     "data": {
      "text/plain": [
       "┏━━━━━━━━━━━━━━━━━━━━━━━━━━━━━━━━━┳━━━━━━━━━━━━━━━━━━━━━━━━┳━━━━━━━━━━━━━━━┓\n",
       "┃\u001B[1m \u001B[0m\u001B[1mLayer (type)                   \u001B[0m\u001B[1m \u001B[0m┃\u001B[1m \u001B[0m\u001B[1mOutput Shape          \u001B[0m\u001B[1m \u001B[0m┃\u001B[1m \u001B[0m\u001B[1m      Param #\u001B[0m\u001B[1m \u001B[0m┃\n",
       "┡━━━━━━━━━━━━━━━━━━━━━━━━━━━━━━━━━╇━━━━━━━━━━━━━━━━━━━━━━━━╇━━━━━━━━━━━━━━━┩\n",
       "│ lstm (\u001B[38;5;33mLSTM\u001B[0m)                     │ (\u001B[38;5;45mNone\u001B[0m, \u001B[38;5;34m64\u001B[0m)             │        \u001B[38;5;34m16,896\u001B[0m │\n",
       "├─────────────────────────────────┼────────────────────────┼───────────────┤\n",
       "│ dense (\u001B[38;5;33mDense\u001B[0m)                   │ (\u001B[38;5;45mNone\u001B[0m, \u001B[38;5;34m8\u001B[0m)              │           \u001B[38;5;34m520\u001B[0m │\n",
       "├─────────────────────────────────┼────────────────────────┼───────────────┤\n",
       "│ dense_1 (\u001B[38;5;33mDense\u001B[0m)                 │ (\u001B[38;5;45mNone\u001B[0m, \u001B[38;5;34m1\u001B[0m)              │             \u001B[38;5;34m9\u001B[0m │\n",
       "└─────────────────────────────────┴────────────────────────┴───────────────┘\n"
      ],
      "text/html": [
       "<pre style=\"white-space:pre;overflow-x:auto;line-height:normal;font-family:Menlo,'DejaVu Sans Mono',consolas,'Courier New',monospace\">┏━━━━━━━━━━━━━━━━━━━━━━━━━━━━━━━━━┳━━━━━━━━━━━━━━━━━━━━━━━━┳━━━━━━━━━━━━━━━┓\n",
       "┃<span style=\"font-weight: bold\"> Layer (type)                    </span>┃<span style=\"font-weight: bold\"> Output Shape           </span>┃<span style=\"font-weight: bold\">       Param # </span>┃\n",
       "┡━━━━━━━━━━━━━━━━━━━━━━━━━━━━━━━━━╇━━━━━━━━━━━━━━━━━━━━━━━━╇━━━━━━━━━━━━━━━┩\n",
       "│ lstm (<span style=\"color: #0087ff; text-decoration-color: #0087ff\">LSTM</span>)                     │ (<span style=\"color: #00d7ff; text-decoration-color: #00d7ff\">None</span>, <span style=\"color: #00af00; text-decoration-color: #00af00\">64</span>)             │        <span style=\"color: #00af00; text-decoration-color: #00af00\">16,896</span> │\n",
       "├─────────────────────────────────┼────────────────────────┼───────────────┤\n",
       "│ dense (<span style=\"color: #0087ff; text-decoration-color: #0087ff\">Dense</span>)                   │ (<span style=\"color: #00d7ff; text-decoration-color: #00d7ff\">None</span>, <span style=\"color: #00af00; text-decoration-color: #00af00\">8</span>)              │           <span style=\"color: #00af00; text-decoration-color: #00af00\">520</span> │\n",
       "├─────────────────────────────────┼────────────────────────┼───────────────┤\n",
       "│ dense_1 (<span style=\"color: #0087ff; text-decoration-color: #0087ff\">Dense</span>)                 │ (<span style=\"color: #00d7ff; text-decoration-color: #00d7ff\">None</span>, <span style=\"color: #00af00; text-decoration-color: #00af00\">1</span>)              │             <span style=\"color: #00af00; text-decoration-color: #00af00\">9</span> │\n",
       "└─────────────────────────────────┴────────────────────────┴───────────────┘\n",
       "</pre>\n"
      ]
     },
     "metadata": {},
     "output_type": "display_data"
    },
    {
     "data": {
      "text/plain": [
       "\u001B[1m Total params: \u001B[0m\u001B[38;5;34m17,425\u001B[0m (68.07 KB)\n"
      ],
      "text/html": [
       "<pre style=\"white-space:pre;overflow-x:auto;line-height:normal;font-family:Menlo,'DejaVu Sans Mono',consolas,'Courier New',monospace\"><span style=\"font-weight: bold\"> Total params: </span><span style=\"color: #00af00; text-decoration-color: #00af00\">17,425</span> (68.07 KB)\n",
       "</pre>\n"
      ]
     },
     "metadata": {},
     "output_type": "display_data"
    },
    {
     "data": {
      "text/plain": [
       "\u001B[1m Trainable params: \u001B[0m\u001B[38;5;34m17,425\u001B[0m (68.07 KB)\n"
      ],
      "text/html": [
       "<pre style=\"white-space:pre;overflow-x:auto;line-height:normal;font-family:Menlo,'DejaVu Sans Mono',consolas,'Courier New',monospace\"><span style=\"font-weight: bold\"> Trainable params: </span><span style=\"color: #00af00; text-decoration-color: #00af00\">17,425</span> (68.07 KB)\n",
       "</pre>\n"
      ]
     },
     "metadata": {},
     "output_type": "display_data"
    },
    {
     "data": {
      "text/plain": [
       "\u001B[1m Non-trainable params: \u001B[0m\u001B[38;5;34m0\u001B[0m (0.00 B)\n"
      ],
      "text/html": [
       "<pre style=\"white-space:pre;overflow-x:auto;line-height:normal;font-family:Menlo,'DejaVu Sans Mono',consolas,'Courier New',monospace\"><span style=\"font-weight: bold\"> Non-trainable params: </span><span style=\"color: #00af00; text-decoration-color: #00af00\">0</span> (0.00 B)\n",
       "</pre>\n"
      ]
     },
     "metadata": {},
     "output_type": "display_data"
    }
   ],
   "execution_count": 8
  },
  {
   "metadata": {
    "ExecuteTime": {
     "end_time": "2024-12-13T17:08:35.775635Z",
     "start_time": "2024-12-13T17:08:35.753040Z"
    }
   },
   "cell_type": "code",
   "source": [
    "cp = ModelCheckpoint('model1/.keras', save_best_only=True)\n",
    "model1.compile(loss=MeanSquaredError(), optimizer=Adam(learning_rate=0.0001), metrics=[RootMeanSquaredError()])"
   ],
   "id": "74a8da90df725cd8",
   "outputs": [],
   "execution_count": 9
  },
  {
   "metadata": {
    "ExecuteTime": {
     "end_time": "2024-12-13T17:09:45.098096Z",
     "start_time": "2024-12-13T17:08:35.776645Z"
    }
   },
   "cell_type": "code",
   "source": "model1.fit(X_train,y_train, validation_data=(X_val, y_val), epochs=10, callbacks=[cp])",
   "id": "a43abc3a0c1368f1",
   "outputs": [
    {
     "name": "stdout",
     "output_type": "stream",
     "text": [
      "Epoch 1/10\n",
      "\u001B[1m1875/1875\u001B[0m \u001B[32m━━━━━━━━━━━━━━━━━━━━\u001B[0m\u001B[37m\u001B[0m \u001B[1m9s\u001B[0m 4ms/step - loss: 137.3476 - root_mean_squared_error: 11.6972 - val_loss: 18.3631 - val_root_mean_squared_error: 4.2852\n",
      "Epoch 2/10\n",
      "\u001B[1m1875/1875\u001B[0m \u001B[32m━━━━━━━━━━━━━━━━━━━━\u001B[0m\u001B[37m\u001B[0m \u001B[1m7s\u001B[0m 4ms/step - loss: 39.9469 - root_mean_squared_error: 6.2886 - val_loss: 2.3061 - val_root_mean_squared_error: 1.5186\n",
      "Epoch 3/10\n",
      "\u001B[1m1875/1875\u001B[0m \u001B[32m━━━━━━━━━━━━━━━━━━━━\u001B[0m\u001B[37m\u001B[0m \u001B[1m7s\u001B[0m 4ms/step - loss: 8.1176 - root_mean_squared_error: 2.8357 - val_loss: 0.7140 - val_root_mean_squared_error: 0.8450\n",
      "Epoch 4/10\n",
      "\u001B[1m1875/1875\u001B[0m \u001B[32m━━━━━━━━━━━━━━━━━━━━\u001B[0m\u001B[37m\u001B[0m \u001B[1m7s\u001B[0m 4ms/step - loss: 2.2615 - root_mean_squared_error: 1.4998 - val_loss: 0.5425 - val_root_mean_squared_error: 0.7366\n",
      "Epoch 5/10\n",
      "\u001B[1m1875/1875\u001B[0m \u001B[32m━━━━━━━━━━━━━━━━━━━━\u001B[0m\u001B[37m\u001B[0m \u001B[1m7s\u001B[0m 3ms/step - loss: 1.0460 - root_mean_squared_error: 1.0223 - val_loss: 0.4976 - val_root_mean_squared_error: 0.7054\n",
      "Epoch 6/10\n",
      "\u001B[1m1875/1875\u001B[0m \u001B[32m━━━━━━━━━━━━━━━━━━━━\u001B[0m\u001B[37m\u001B[0m \u001B[1m6s\u001B[0m 3ms/step - loss: 0.7892 - root_mean_squared_error: 0.8881 - val_loss: 0.4971 - val_root_mean_squared_error: 0.7050\n",
      "Epoch 7/10\n",
      "\u001B[1m1875/1875\u001B[0m \u001B[32m━━━━━━━━━━━━━━━━━━━━\u001B[0m\u001B[37m\u001B[0m \u001B[1m6s\u001B[0m 3ms/step - loss: 0.7136 - root_mean_squared_error: 0.8445 - val_loss: 0.4908 - val_root_mean_squared_error: 0.7006\n",
      "Epoch 8/10\n",
      "\u001B[1m1875/1875\u001B[0m \u001B[32m━━━━━━━━━━━━━━━━━━━━\u001B[0m\u001B[37m\u001B[0m \u001B[1m7s\u001B[0m 3ms/step - loss: 0.6660 - root_mean_squared_error: 0.8161 - val_loss: 0.4976 - val_root_mean_squared_error: 0.7054\n",
      "Epoch 9/10\n",
      "\u001B[1m1875/1875\u001B[0m \u001B[32m━━━━━━━━━━━━━━━━━━━━\u001B[0m\u001B[37m\u001B[0m \u001B[1m7s\u001B[0m 4ms/step - loss: 0.6637 - root_mean_squared_error: 0.8146 - val_loss: 0.4872 - val_root_mean_squared_error: 0.6980\n",
      "Epoch 10/10\n",
      "\u001B[1m1875/1875\u001B[0m \u001B[32m━━━━━━━━━━━━━━━━━━━━\u001B[0m\u001B[37m\u001B[0m \u001B[1m7s\u001B[0m 4ms/step - loss: 0.6663 - root_mean_squared_error: 0.8162 - val_loss: 0.4870 - val_root_mean_squared_error: 0.6979\n"
     ]
    },
    {
     "data": {
      "text/plain": [
       "<keras.src.callbacks.history.History at 0x230953bfa40>"
      ]
     },
     "execution_count": 10,
     "metadata": {},
     "output_type": "execute_result"
    }
   ],
   "execution_count": 10
  },
  {
   "metadata": {
    "ExecuteTime": {
     "end_time": "2024-12-13T17:09:45.228583Z",
     "start_time": "2024-12-13T17:09:45.099272Z"
    }
   },
   "cell_type": "code",
   "source": [
    "# Load the model we saved earlier\n",
    "from tensorflow.keras.models import load_model\n",
    "model1 = load_model('model1/.keras')"
   ],
   "id": "b476e3009f69936e",
   "outputs": [],
   "execution_count": 11
  },
  {
   "metadata": {
    "ExecuteTime": {
     "end_time": "2024-12-13T17:09:49.068688Z",
     "start_time": "2024-12-13T17:09:45.231716Z"
    }
   },
   "cell_type": "code",
   "source": [
    "train_predictions = model1.predict(X_train).flatten()\n",
    "train_results = pd.DataFrame(data={'Train Predictions': train_predictions, 'Actuals': y_train})\n",
    "train_results"
   ],
   "id": "352730a021ae4f35",
   "outputs": [
    {
     "name": "stdout",
     "output_type": "stream",
     "text": [
      "\u001B[1m1875/1875\u001B[0m \u001B[32m━━━━━━━━━━━━━━━━━━━━\u001B[0m\u001B[37m\u001B[0m \u001B[1m3s\u001B[0m 1ms/step\n"
     ]
    },
    {
     "data": {
      "text/plain": [
       "       Train Predictions  Actuals\n",
       "0              -9.820451    -9.67\n",
       "1              -9.683250    -9.17\n",
       "2              -8.792196    -8.10\n",
       "3              -7.259950    -7.66\n",
       "4              -7.087624    -7.04\n",
       "...                  ...      ...\n",
       "59995           6.269300     6.07\n",
       "59996           7.107222     9.88\n",
       "59997          12.610383    13.53\n",
       "59998          15.864436    15.43\n",
       "59999          16.426611    15.54\n",
       "\n",
       "[60000 rows x 2 columns]"
      ],
      "text/html": [
       "<div>\n",
       "<style scoped>\n",
       "    .dataframe tbody tr th:only-of-type {\n",
       "        vertical-align: middle;\n",
       "    }\n",
       "\n",
       "    .dataframe tbody tr th {\n",
       "        vertical-align: top;\n",
       "    }\n",
       "\n",
       "    .dataframe thead th {\n",
       "        text-align: right;\n",
       "    }\n",
       "</style>\n",
       "<table border=\"1\" class=\"dataframe\">\n",
       "  <thead>\n",
       "    <tr style=\"text-align: right;\">\n",
       "      <th></th>\n",
       "      <th>Train Predictions</th>\n",
       "      <th>Actuals</th>\n",
       "    </tr>\n",
       "  </thead>\n",
       "  <tbody>\n",
       "    <tr>\n",
       "      <th>0</th>\n",
       "      <td>-9.820451</td>\n",
       "      <td>-9.67</td>\n",
       "    </tr>\n",
       "    <tr>\n",
       "      <th>1</th>\n",
       "      <td>-9.683250</td>\n",
       "      <td>-9.17</td>\n",
       "    </tr>\n",
       "    <tr>\n",
       "      <th>2</th>\n",
       "      <td>-8.792196</td>\n",
       "      <td>-8.10</td>\n",
       "    </tr>\n",
       "    <tr>\n",
       "      <th>3</th>\n",
       "      <td>-7.259950</td>\n",
       "      <td>-7.66</td>\n",
       "    </tr>\n",
       "    <tr>\n",
       "      <th>4</th>\n",
       "      <td>-7.087624</td>\n",
       "      <td>-7.04</td>\n",
       "    </tr>\n",
       "    <tr>\n",
       "      <th>...</th>\n",
       "      <td>...</td>\n",
       "      <td>...</td>\n",
       "    </tr>\n",
       "    <tr>\n",
       "      <th>59995</th>\n",
       "      <td>6.269300</td>\n",
       "      <td>6.07</td>\n",
       "    </tr>\n",
       "    <tr>\n",
       "      <th>59996</th>\n",
       "      <td>7.107222</td>\n",
       "      <td>9.88</td>\n",
       "    </tr>\n",
       "    <tr>\n",
       "      <th>59997</th>\n",
       "      <td>12.610383</td>\n",
       "      <td>13.53</td>\n",
       "    </tr>\n",
       "    <tr>\n",
       "      <th>59998</th>\n",
       "      <td>15.864436</td>\n",
       "      <td>15.43</td>\n",
       "    </tr>\n",
       "    <tr>\n",
       "      <th>59999</th>\n",
       "      <td>16.426611</td>\n",
       "      <td>15.54</td>\n",
       "    </tr>\n",
       "  </tbody>\n",
       "</table>\n",
       "<p>60000 rows × 2 columns</p>\n",
       "</div>"
      ]
     },
     "execution_count": 12,
     "metadata": {},
     "output_type": "execute_result"
    }
   ],
   "execution_count": 12
  },
  {
   "metadata": {
    "ExecuteTime": {
     "end_time": "2024-12-13T17:09:49.237382Z",
     "start_time": "2024-12-13T17:09:49.069702Z"
    }
   },
   "cell_type": "code",
   "source": [
    "\n",
    "import matplotlib.pyplot as plt\n",
    "plt.plot(train_results['Train Predictions'][:100])\n",
    "plt.plot(train_results['Actuals'][:100])"
   ],
   "id": "2a2304a012502226",
   "outputs": [
    {
     "data": {
      "text/plain": [
       "[<matplotlib.lines.Line2D at 0x2309582e060>]"
      ]
     },
     "execution_count": 13,
     "metadata": {},
     "output_type": "execute_result"
    },
    {
     "data": {
      "text/plain": [
       "<Figure size 640x480 with 1 Axes>"
      ],
      "image/png": "[encoded data removed]"
     },
     "metadata": {},
     "output_type": "display_data"
    }
   ],
   "execution_count": 13
  },
  {
   "metadata": {
    "ExecuteTime": {
     "end_time": "2024-12-13T17:09:49.952172Z",
     "start_time": "2024-12-13T17:09:49.239393Z"
    }
   },
   "cell_type": "code",
   "source": [
    "val_predictions = model1.predict(X_val).flatten()\n",
    "val_results = pd.DataFrame(data={'Val Predictions': val_predictions, 'Actuals': y_val})\n",
    "val_results"
   ],
   "id": "33510e04a9446862",
   "outputs": [
    {
     "name": "stdout",
     "output_type": "stream",
     "text": [
      "\u001B[1m157/157\u001B[0m \u001B[32m━━━━━━━━━━━━━━━━━━━━\u001B[0m\u001B[37m\u001B[0m \u001B[1m1s\u001B[0m 3ms/step\n"
     ]
    },
    {
     "data": {
      "text/plain": [
       "      Val Predictions  Actuals\n",
       "0           15.580624    14.02\n",
       "1           13.353554    13.67\n",
       "2           13.047427    12.27\n",
       "3           11.532307    11.19\n",
       "4           10.458062    10.85\n",
       "...               ...      ...\n",
       "4995        17.406393    18.27\n",
       "4996        17.428848    17.85\n",
       "4997        17.193651    16.65\n",
       "4998        15.899045    15.85\n",
       "4999        15.085835    15.09\n",
       "\n",
       "[5000 rows x 2 columns]"
      ],
      "text/html": [
       "<div>\n",
       "<style scoped>\n",
       "    .dataframe tbody tr th:only-of-type {\n",
       "        vertical-align: middle;\n",
       "    }\n",
       "\n",
       "    .dataframe tbody tr th {\n",
       "        vertical-align: top;\n",
       "    }\n",
       "\n",
       "    .dataframe thead th {\n",
       "        text-align: right;\n",
       "    }\n",
       "</style>\n",
       "<table border=\"1\" class=\"dataframe\">\n",
       "  <thead>\n",
       "    <tr style=\"text-align: right;\">\n",
       "      <th></th>\n",
       "      <th>Val Predictions</th>\n",
       "      <th>Actuals</th>\n",
       "    </tr>\n",
       "  </thead>\n",
       "  <tbody>\n",
       "    <tr>\n",
       "      <th>0</th>\n",
       "      <td>15.580624</td>\n",
       "      <td>14.02</td>\n",
       "    </tr>\n",
       "    <tr>\n",
       "      <th>1</th>\n",
       "      <td>13.353554</td>\n",
       "      <td>13.67</td>\n",
       "    </tr>\n",
       "    <tr>\n",
       "      <th>2</th>\n",
       "      <td>13.047427</td>\n",
       "      <td>12.27</td>\n",
       "    </tr>\n",
       "    <tr>\n",
       "      <th>3</th>\n",
       "      <td>11.532307</td>\n",
       "      <td>11.19</td>\n",
       "    </tr>\n",
       "    <tr>\n",
       "      <th>4</th>\n",
       "      <td>10.458062</td>\n",
       "      <td>10.85</td>\n",
       "    </tr>\n",
       "    <tr>\n",
       "      <th>...</th>\n",
       "      <td>...</td>\n",
       "      <td>...</td>\n",
       "    </tr>\n",
       "    <tr>\n",
       "      <th>4995</th>\n",
       "      <td>17.406393</td>\n",
       "      <td>18.27</td>\n",
       "    </tr>\n",
       "    <tr>\n",
       "      <th>4996</th>\n",
       "      <td>17.428848</td>\n",
       "      <td>17.85</td>\n",
       "    </tr>\n",
       "    <tr>\n",
       "      <th>4997</th>\n",
       "      <td>17.193651</td>\n",
       "      <td>16.65</td>\n",
       "    </tr>\n",
       "    <tr>\n",
       "      <th>4998</th>\n",
       "      <td>15.899045</td>\n",
       "      <td>15.85</td>\n",
       "    </tr>\n",
       "    <tr>\n",
       "      <th>4999</th>\n",
       "      <td>15.085835</td>\n",
       "      <td>15.09</td>\n",
       "    </tr>\n",
       "  </tbody>\n",
       "</table>\n",
       "<p>5000 rows × 2 columns</p>\n",
       "</div>"
      ]
     },
     "execution_count": 14,
     "metadata": {},
     "output_type": "execute_result"
    }
   ],
   "execution_count": 14
  },
  {
   "metadata": {
    "ExecuteTime": {
     "end_time": "2024-12-13T17:09:50.128707Z",
     "start_time": "2024-12-13T17:09:49.954183Z"
    }
   },
   "cell_type": "code",
   "source": [
    "plt.plot(val_results['Val Predictions'][:100])\n",
    "plt.plot(val_results['Actuals'][:100])"
   ],
   "id": "9fe6fbfbae9f7a97",
   "outputs": [
    {
     "data": {
      "text/plain": [
       "[<matplotlib.lines.Line2D at 0x2309590b110>]"
      ]
     },
     "execution_count": 15,
     "metadata": {},
     "output_type": "execute_result"
    },
    {
     "data": {
      "text/plain": [
       "<Figure size 640x480 with 1 Axes>"
      ],
      "image/png": "[encoded data removed]"
     },
     "metadata": {},
     "output_type": "display_data"
    }
   ],
   "execution_count": 15
  },
  {
   "metadata": {
    "ExecuteTime": {
     "end_time": "2024-12-13T17:09:50.646885Z",
     "start_time": "2024-12-13T17:09:50.131020Z"
    }
   },
   "cell_type": "code",
   "source": [
    "test_predictions = model1.predict(X_test).flatten()\n",
    "test_results = pd.DataFrame(data={'Val Predictions': test_predictions, 'Actuals': y_test})\n",
    "test_results"
   ],
   "id": "684ec681fd2773e8",
   "outputs": [
    {
     "name": "stdout",
     "output_type": "stream",
     "text": [
      "\u001B[1m159/159\u001B[0m \u001B[32m━━━━━━━━━━━━━━━━━━━━\u001B[0m\u001B[37m\u001B[0m \u001B[1m0s\u001B[0m 2ms/step\n"
     ]
    },
    {
     "data": {
      "text/plain": [
       "      Val Predictions  Actuals\n",
       "0           14.411210    13.99\n",
       "1           13.279010    13.46\n",
       "2           12.897010    12.93\n",
       "3           12.507782    12.43\n",
       "4           12.072664    12.17\n",
       "...               ...      ...\n",
       "5081        -1.139153    -0.98\n",
       "5082        -1.438223    -1.40\n",
       "5083        -1.560145    -2.75\n",
       "5084        -3.184736    -2.89\n",
       "5085        -3.098715    -3.93\n",
       "\n",
       "[5086 rows x 2 columns]"
      ],
      "text/html": [
       "<div>\n",
       "<style scoped>\n",
       "    .dataframe tbody tr th:only-of-type {\n",
       "        vertical-align: middle;\n",
       "    }\n",
       "\n",
       "    .dataframe tbody tr th {\n",
       "        vertical-align: top;\n",
       "    }\n",
       "\n",
       "    .dataframe thead th {\n",
       "        text-align: right;\n",
       "    }\n",
       "</style>\n",
       "<table border=\"1\" class=\"dataframe\">\n",
       "  <thead>\n",
       "    <tr style=\"text-align: right;\">\n",
       "      <th></th>\n",
       "      <th>Val Predictions</th>\n",
       "      <th>Actuals</th>\n",
       "    </tr>\n",
       "  </thead>\n",
       "  <tbody>\n",
       "    <tr>\n",
       "      <th>0</th>\n",
       "      <td>14.411210</td>\n",
       "      <td>13.99</td>\n",
       "    </tr>\n",
       "    <tr>\n",
       "      <th>1</th>\n",
       "      <td>13.279010</td>\n",
       "      <td>13.46</td>\n",
       "    </tr>\n",
       "    <tr>\n",
       "      <th>2</th>\n",
       "      <td>12.897010</td>\n",
       "      <td>12.93</td>\n",
       "    </tr>\n",
       "    <tr>\n",
       "      <th>3</th>\n",
       "      <td>12.507782</td>\n",
       "      <td>12.43</td>\n",
       "    </tr>\n",
       "    <tr>\n",
       "      <th>4</th>\n",
       "      <td>12.072664</td>\n",
       "      <td>12.17</td>\n",
       "    </tr>\n",
       "    <tr>\n",
       "      <th>...</th>\n",
       "      <td>...</td>\n",
       "      <td>...</td>\n",
       "    </tr>\n",
       "    <tr>\n",
       "      <th>5081</th>\n",
       "      <td>-1.139153</td>\n",
       "      <td>-0.98</td>\n",
       "    </tr>\n",
       "    <tr>\n",
       "      <th>5082</th>\n",
       "      <td>-1.438223</td>\n",
       "      <td>-1.40</td>\n",
       "    </tr>\n",
       "    <tr>\n",
       "      <th>5083</th>\n",
       "      <td>-1.560145</td>\n",
       "      <td>-2.75</td>\n",
       "    </tr>\n",
       "    <tr>\n",
       "      <th>5084</th>\n",
       "      <td>-3.184736</td>\n",
       "      <td>-2.89</td>\n",
       "    </tr>\n",
       "    <tr>\n",
       "      <th>5085</th>\n",
       "      <td>-3.098715</td>\n",
       "      <td>-3.93</td>\n",
       "    </tr>\n",
       "  </tbody>\n",
       "</table>\n",
       "<p>5086 rows × 2 columns</p>\n",
       "</div>"
      ]
     },
     "execution_count": 16,
     "metadata": {},
     "output_type": "execute_result"
    }
   ],
   "execution_count": 16
  },
  {
   "metadata": {
    "ExecuteTime": {
     "end_time": "2024-12-13T17:09:50.820689Z",
     "start_time": "2024-12-13T17:09:50.647898Z"
    }
   },
   "cell_type": "code",
   "source": [
    "plt.plot(test_results['Val Predictions'][:100])\n",
    "plt.plot(test_results['Actuals'][:100])"
   ],
   "id": "e00ea67c15271060",
   "outputs": [
    {
     "data": {
      "text/plain": [
       "[<matplotlib.lines.Line2D at 0x230958dc590>]"
      ]
     },
     "execution_count": 17,
     "metadata": {},
     "output_type": "execute_result"
    },
    {
     "data": {
      "text/plain": [
       "<Figure size 640x480 with 1 Axes>"
      ],
      "image/png": "[encoded data removed]"
     },
     "metadata": {},
     "output_type": "display_data"
    }
   ],
   "execution_count": 17
  },
  {
   "metadata": {
    "ExecuteTime": {
     "end_time": "2024-12-13T17:09:51.451856Z",
     "start_time": "2024-12-13T17:09:50.822654Z"
    }
   },
   "cell_type": "code",
   "source": [
    "from sklearn.metrics import mean_squared_error as mse\n",
    "\n",
    "def plot_predictions1(model, X, y, start=0, end=100):\n",
    "    predictions = model.predict(X).flatten()\n",
    "    df = pd.DataFrame(data={'Predictions':predictions, 'Actuals': y})\n",
    "    plt.plot(df['Predictions'][start:end])\n",
    "    plt.plot(df['Actuals'][start:end])\n",
    "    return df, mse(y, predictions)\n",
    "\n",
    "plot_predictions1(model1, X_val, y_val)"
   ],
   "id": "ffd61fd694bd32",
   "outputs": [
    {
     "name": "stdout",
     "output_type": "stream",
     "text": [
      "\u001B[1m157/157\u001B[0m \u001B[32m━━━━━━━━━━━━━━━━━━━━\u001B[0m\u001B[37m\u001B[0m \u001B[1m0s\u001B[0m 2ms/step\n"
     ]
    },
    {
     "data": {
      "text/plain": [
       "(      Predictions  Actuals\n",
       " 0       15.580624    14.02\n",
       " 1       13.353554    13.67\n",
       " 2       13.047427    12.27\n",
       " 3       11.532307    11.19\n",
       " 4       10.458062    10.85\n",
       " ...           ...      ...\n",
       " 4995    17.406393    18.27\n",
       " 4996    17.428848    17.85\n",
       " 4997    17.193651    16.65\n",
       " 4998    15.899045    15.85\n",
       " 4999    15.085835    15.09\n",
       " \n",
       " [5000 rows x 2 columns],\n",
       " 0.4870083078407537)"
      ]
     },
     "execution_count": 18,
     "metadata": {},
     "output_type": "execute_result"
    },
    {
     "data": {
      "text/plain": [
       "<Figure size 640x480 with 1 Axes>"
      ],
      "image/png": "[encoded data removed]"
     },
     "metadata": {},
     "output_type": "display_data"
    }
   ],
   "execution_count": 18
  },
  {
   "metadata": {
    "ExecuteTime": {
     "end_time": "2024-12-13T17:48:39.785908Z",
     "start_time": "2024-12-13T17:48:39.638794Z"
    }
   },
   "cell_type": "code",
   "source": [
    "# \n",
    "temp_df = pd.DataFrame({'Temperature' : temp})\n",
    "temp_df['Seconds'] = temp_df.index.map(pd.Timestamp.timestamp) # Date\n",
    "temp_df"
   ],
   "id": "568258052b0aaa87",
   "outputs": [
    {
     "data": {
      "text/plain": [
       "                     Temperature       Seconds\n",
       "Date Time                                     \n",
       "2009-01-01 01:00:00        -8.05  1.230772e+09\n",
       "2009-01-01 02:00:00        -8.88  1.230775e+09\n",
       "2009-01-01 03:00:00        -8.81  1.230779e+09\n",
       "2009-01-01 04:00:00        -9.05  1.230782e+09\n",
       "2009-01-01 05:00:00        -9.63  1.230786e+09\n",
       "...                          ...           ...\n",
       "2016-12-31 19:10:00        -0.98  1.483211e+09\n",
       "2016-12-31 20:10:00        -1.40  1.483215e+09\n",
       "2016-12-31 21:10:00        -2.75  1.483219e+09\n",
       "2016-12-31 22:10:00        -2.89  1.483222e+09\n",
       "2016-12-31 23:10:00        -3.93  1.483226e+09\n",
       "\n",
       "[70091 rows x 2 columns]"
      ],
      "text/html": [
       "<div>\n",
       "<style scoped>\n",
       "    .dataframe tbody tr th:only-of-type {\n",
       "        vertical-align: middle;\n",
       "    }\n",
       "\n",
       "    .dataframe tbody tr th {\n",
       "        vertical-align: top;\n",
       "    }\n",
       "\n",
       "    .dataframe thead th {\n",
       "        text-align: right;\n",
       "    }\n",
       "</style>\n",
       "<table border=\"1\" class=\"dataframe\">\n",
       "  <thead>\n",
       "    <tr style=\"text-align: right;\">\n",
       "      <th></th>\n",
       "      <th>Temperature</th>\n",
       "      <th>Seconds</th>\n",
       "    </tr>\n",
       "    <tr>\n",
       "      <th>Date Time</th>\n",
       "      <th></th>\n",
       "      <th></th>\n",
       "    </tr>\n",
       "  </thead>\n",
       "  <tbody>\n",
       "    <tr>\n",
       "      <th>2009-01-01 01:00:00</th>\n",
       "      <td>-8.05</td>\n",
       "      <td>1.230772e+09</td>\n",
       "    </tr>\n",
       "    <tr>\n",
       "      <th>2009-01-01 02:00:00</th>\n",
       "      <td>-8.88</td>\n",
       "      <td>1.230775e+09</td>\n",
       "    </tr>\n",
       "    <tr>\n",
       "      <th>2009-01-01 03:00:00</th>\n",
       "      <td>-8.81</td>\n",
       "      <td>1.230779e+09</td>\n",
       "    </tr>\n",
       "    <tr>\n",
       "      <th>2009-01-01 04:00:00</th>\n",
       "      <td>-9.05</td>\n",
       "      <td>1.230782e+09</td>\n",
       "    </tr>\n",
       "    <tr>\n",
       "      <th>2009-01-01 05:00:00</th>\n",
       "      <td>-9.63</td>\n",
       "      <td>1.230786e+09</td>\n",
       "    </tr>\n",
       "    <tr>\n",
       "      <th>...</th>\n",
       "      <td>...</td>\n",
       "      <td>...</td>\n",
       "    </tr>\n",
       "    <tr>\n",
       "      <th>2016-12-31 19:10:00</th>\n",
       "      <td>-0.98</td>\n",
       "      <td>1.483211e+09</td>\n",
       "    </tr>\n",
       "    <tr>\n",
       "      <th>2016-12-31 20:10:00</th>\n",
       "      <td>-1.40</td>\n",
       "      <td>1.483215e+09</td>\n",
       "    </tr>\n",
       "    <tr>\n",
       "      <th>2016-12-31 21:10:00</th>\n",
       "      <td>-2.75</td>\n",
       "      <td>1.483219e+09</td>\n",
       "    </tr>\n",
       "    <tr>\n",
       "      <th>2016-12-31 22:10:00</th>\n",
       "      <td>-2.89</td>\n",
       "      <td>1.483222e+09</td>\n",
       "    </tr>\n",
       "    <tr>\n",
       "      <th>2016-12-31 23:10:00</th>\n",
       "      <td>-3.93</td>\n",
       "      <td>1.483226e+09</td>\n",
       "    </tr>\n",
       "  </tbody>\n",
       "</table>\n",
       "<p>70091 rows × 2 columns</p>\n",
       "</div>"
      ]
     },
     "execution_count": 21,
     "metadata": {},
     "output_type": "execute_result"
    }
   ],
   "execution_count": 21
  },
  {
   "metadata": {
    "ExecuteTime": {
     "end_time": "2024-12-13T17:53:33.210015Z",
     "start_time": "2024-12-13T17:53:33.182448Z"
    }
   },
   "cell_type": "code",
   "source": [
    "day = 60 * 60 * 24\n",
    "year = day * 365.2425 # Seconds in a year\n",
    "\n",
    "temp_df['Day sin'] = np.sin(temp_df['Seconds'] * (2 * np.pi) / day)\n",
    "temp_df['Day cos'] = np.cos(temp_df['Seconds'] * (2 * np.pi) / day)\n",
    "temp_df['Year sin'] = np.sin(temp_df['Seconds'] * (2 * np.pi) / year)\n",
    "temp_df['Year cos'] = np.cos(temp_df['Seconds'] * (2 * np.pi) / year)\n",
    "temp_df.head()"
   ],
   "id": "be3575af52fe665b",
   "outputs": [
    {
     "data": {
      "text/plain": [
       "                     Temperature       Seconds   Day sin   Day cos  Year sin  \\\n",
       "Date Time                                                                      \n",
       "2009-01-01 01:00:00        -8.05  1.230772e+09  0.258819  0.965926  0.010049   \n",
       "2009-01-01 02:00:00        -8.88  1.230775e+09  0.500000  0.866025  0.010766   \n",
       "2009-01-01 03:00:00        -8.81  1.230779e+09  0.707107  0.707107  0.011483   \n",
       "2009-01-01 04:00:00        -9.05  1.230782e+09  0.866025  0.500000  0.012199   \n",
       "2009-01-01 05:00:00        -9.63  1.230786e+09  0.965926  0.258819  0.012916   \n",
       "...                          ...           ...       ...       ...       ...   \n",
       "2016-12-31 19:10:00        -0.98  1.483211e+09 -0.953717  0.300706  0.006900   \n",
       "2016-12-31 20:10:00        -1.40  1.483215e+09 -0.843391  0.537300  0.007617   \n",
       "2016-12-31 21:10:00        -2.75  1.483219e+09 -0.675590  0.737277  0.008334   \n",
       "2016-12-31 22:10:00        -2.89  1.483222e+09 -0.461749  0.887011  0.009050   \n",
       "2016-12-31 23:10:00        -3.93  1.483226e+09 -0.216440  0.976296  0.009767   \n",
       "\n",
       "                     Year cos  \n",
       "Date Time                      \n",
       "2009-01-01 01:00:00  0.999950  \n",
       "2009-01-01 02:00:00  0.999942  \n",
       "2009-01-01 03:00:00  0.999934  \n",
       "2009-01-01 04:00:00  0.999926  \n",
       "2009-01-01 05:00:00  0.999917  \n",
       "...                       ...  \n",
       "2016-12-31 19:10:00  0.999976  \n",
       "2016-12-31 20:10:00  0.999971  \n",
       "2016-12-31 21:10:00  0.999965  \n",
       "2016-12-31 22:10:00  0.999959  \n",
       "2016-12-31 23:10:00  0.999952  \n",
       "\n",
       "[70091 rows x 6 columns]"
      ],
      "text/html": [
       "<div>\n",
       "<style scoped>\n",
       "    .dataframe tbody tr th:only-of-type {\n",
       "        vertical-align: middle;\n",
       "    }\n",
       "\n",
       "    .dataframe tbody tr th {\n",
       "        vertical-align: top;\n",
       "    }\n",
       "\n",
       "    .dataframe thead th {\n",
       "        text-align: right;\n",
       "    }\n",
       "</style>\n",
       "<table border=\"1\" class=\"dataframe\">\n",
       "  <thead>\n",
       "    <tr style=\"text-align: right;\">\n",
       "      <th></th>\n",
       "      <th>Temperature</th>\n",
       "      <th>Seconds</th>\n",
       "      <th>Day sin</th>\n",
       "      <th>Day cos</th>\n",
       "      <th>Year sin</th>\n",
       "      <th>Year cos</th>\n",
       "    </tr>\n",
       "    <tr>\n",
       "      <th>Date Time</th>\n",
       "      <th></th>\n",
       "      <th></th>\n",
       "      <th></th>\n",
       "      <th></th>\n",
       "      <th></th>\n",
       "      <th></th>\n",
       "    </tr>\n",
       "  </thead>\n",
       "  <tbody>\n",
       "    <tr>\n",
       "      <th>2009-01-01 01:00:00</th>\n",
       "      <td>-8.05</td>\n",
       "      <td>1.230772e+09</td>\n",
       "      <td>0.258819</td>\n",
       "      <td>0.965926</td>\n",
       "      <td>0.010049</td>\n",
       "      <td>0.999950</td>\n",
       "    </tr>\n",
       "    <tr>\n",
       "      <th>2009-01-01 02:00:00</th>\n",
       "      <td>-8.88</td>\n",
       "      <td>1.230775e+09</td>\n",
       "      <td>0.500000</td>\n",
       "      <td>0.866025</td>\n",
       "      <td>0.010766</td>\n",
       "      <td>0.999942</td>\n",
       "    </tr>\n",
       "    <tr>\n",
       "      <th>2009-01-01 03:00:00</th>\n",
       "      <td>-8.81</td>\n",
       "      <td>1.230779e+09</td>\n",
       "      <td>0.707107</td>\n",
       "      <td>0.707107</td>\n",
       "      <td>0.011483</td>\n",
       "      <td>0.999934</td>\n",
       "    </tr>\n",
       "    <tr>\n",
       "      <th>2009-01-01 04:00:00</th>\n",
       "      <td>-9.05</td>\n",
       "      <td>1.230782e+09</td>\n",
       "      <td>0.866025</td>\n",
       "      <td>0.500000</td>\n",
       "      <td>0.012199</td>\n",
       "      <td>0.999926</td>\n",
       "    </tr>\n",
       "    <tr>\n",
       "      <th>2009-01-01 05:00:00</th>\n",
       "      <td>-9.63</td>\n",
       "      <td>1.230786e+09</td>\n",
       "      <td>0.965926</td>\n",
       "      <td>0.258819</td>\n",
       "      <td>0.012916</td>\n",
       "      <td>0.999917</td>\n",
       "    </tr>\n",
       "    <tr>\n",
       "      <th>...</th>\n",
       "      <td>...</td>\n",
       "      <td>...</td>\n",
       "      <td>...</td>\n",
       "      <td>...</td>\n",
       "      <td>...</td>\n",
       "      <td>...</td>\n",
       "    </tr>\n",
       "    <tr>\n",
       "      <th>2016-12-31 19:10:00</th>\n",
       "      <td>-0.98</td>\n",
       "      <td>1.483211e+09</td>\n",
       "      <td>-0.953717</td>\n",
       "      <td>0.300706</td>\n",
       "      <td>0.006900</td>\n",
       "      <td>0.999976</td>\n",
       "    </tr>\n",
       "    <tr>\n",
       "      <th>2016-12-31 20:10:00</th>\n",
       "      <td>-1.40</td>\n",
       "      <td>1.483215e+09</td>\n",
       "      <td>-0.843391</td>\n",
       "      <td>0.537300</td>\n",
       "      <td>0.007617</td>\n",
       "      <td>0.999971</td>\n",
       "    </tr>\n",
       "    <tr>\n",
       "      <th>2016-12-31 21:10:00</th>\n",
       "      <td>-2.75</td>\n",
       "      <td>1.483219e+09</td>\n",
       "      <td>-0.675590</td>\n",
       "      <td>0.737277</td>\n",
       "      <td>0.008334</td>\n",
       "      <td>0.999965</td>\n",
       "    </tr>\n",
       "    <tr>\n",
       "      <th>2016-12-31 22:10:00</th>\n",
       "      <td>-2.89</td>\n",
       "      <td>1.483222e+09</td>\n",
       "      <td>-0.461749</td>\n",
       "      <td>0.887011</td>\n",
       "      <td>0.009050</td>\n",
       "      <td>0.999959</td>\n",
       "    </tr>\n",
       "    <tr>\n",
       "      <th>2016-12-31 23:10:00</th>\n",
       "      <td>-3.93</td>\n",
       "      <td>1.483226e+09</td>\n",
       "      <td>-0.216440</td>\n",
       "      <td>0.976296</td>\n",
       "      <td>0.009767</td>\n",
       "      <td>0.999952</td>\n",
       "    </tr>\n",
       "  </tbody>\n",
       "</table>\n",
       "<p>70091 rows × 6 columns</p>\n",
       "</div>"
      ]
     },
     "execution_count": 23,
     "metadata": {},
     "output_type": "execute_result"
    }
   ],
   "execution_count": 23
  },
  {
   "metadata": {
    "ExecuteTime": {
     "end_time": "2024-12-13T17:54:52.533090Z",
     "start_time": "2024-12-13T17:54:52.519737Z"
    }
   },
   "cell_type": "code",
   "source": [
    "temp_df = temp_df.drop('Seconds', axis=1)\n",
    "temp_df.head()"
   ],
   "id": "319d78514fe355df",
   "outputs": [
    {
     "data": {
      "text/plain": [
       "                     Temperature   Day sin   Day cos  Year sin  Year cos\n",
       "Date Time                                                               \n",
       "2009-01-01 01:00:00        -8.05  0.258819  0.965926  0.010049  0.999950\n",
       "2009-01-01 02:00:00        -8.88  0.500000  0.866025  0.010766  0.999942\n",
       "2009-01-01 03:00:00        -8.81  0.707107  0.707107  0.011483  0.999934\n",
       "2009-01-01 04:00:00        -9.05  0.866025  0.500000  0.012199  0.999926\n",
       "2009-01-01 05:00:00        -9.63  0.965926  0.258819  0.012916  0.999917"
      ],
      "text/html": [
       "<div>\n",
       "<style scoped>\n",
       "    .dataframe tbody tr th:only-of-type {\n",
       "        vertical-align: middle;\n",
       "    }\n",
       "\n",
       "    .dataframe tbody tr th {\n",
       "        vertical-align: top;\n",
       "    }\n",
       "\n",
       "    .dataframe thead th {\n",
       "        text-align: right;\n",
       "    }\n",
       "</style>\n",
       "<table border=\"1\" class=\"dataframe\">\n",
       "  <thead>\n",
       "    <tr style=\"text-align: right;\">\n",
       "      <th></th>\n",
       "      <th>Temperature</th>\n",
       "      <th>Day sin</th>\n",
       "      <th>Day cos</th>\n",
       "      <th>Year sin</th>\n",
       "      <th>Year cos</th>\n",
       "    </tr>\n",
       "    <tr>\n",
       "      <th>Date Time</th>\n",
       "      <th></th>\n",
       "      <th></th>\n",
       "      <th></th>\n",
       "      <th></th>\n",
       "      <th></th>\n",
       "    </tr>\n",
       "  </thead>\n",
       "  <tbody>\n",
       "    <tr>\n",
       "      <th>2009-01-01 01:00:00</th>\n",
       "      <td>-8.05</td>\n",
       "      <td>0.258819</td>\n",
       "      <td>0.965926</td>\n",
       "      <td>0.010049</td>\n",
       "      <td>0.999950</td>\n",
       "    </tr>\n",
       "    <tr>\n",
       "      <th>2009-01-01 02:00:00</th>\n",
       "      <td>-8.88</td>\n",
       "      <td>0.500000</td>\n",
       "      <td>0.866025</td>\n",
       "      <td>0.010766</td>\n",
       "      <td>0.999942</td>\n",
       "    </tr>\n",
       "    <tr>\n",
       "      <th>2009-01-01 03:00:00</th>\n",
       "      <td>-8.81</td>\n",
       "      <td>0.707107</td>\n",
       "      <td>0.707107</td>\n",
       "      <td>0.011483</td>\n",
       "      <td>0.999934</td>\n",
       "    </tr>\n",
       "    <tr>\n",
       "      <th>2009-01-01 04:00:00</th>\n",
       "      <td>-9.05</td>\n",
       "      <td>0.866025</td>\n",
       "      <td>0.500000</td>\n",
       "      <td>0.012199</td>\n",
       "      <td>0.999926</td>\n",
       "    </tr>\n",
       "    <tr>\n",
       "      <th>2009-01-01 05:00:00</th>\n",
       "      <td>-9.63</td>\n",
       "      <td>0.965926</td>\n",
       "      <td>0.258819</td>\n",
       "      <td>0.012916</td>\n",
       "      <td>0.999917</td>\n",
       "    </tr>\n",
       "  </tbody>\n",
       "</table>\n",
       "</div>"
      ]
     },
     "execution_count": 24,
     "metadata": {},
     "output_type": "execute_result"
    }
   ],
   "execution_count": 24
  },
  {
   "metadata": {
    "ExecuteTime": {
     "end_time": "2024-12-13T18:04:23.252195Z",
     "start_time": "2024-12-13T18:04:23.245249Z"
    }
   },
   "cell_type": "code",
   "source": [
    "def df_to_X_y2(df, window_size=6):\n",
    "    df_as_np = df.to_numpy()\n",
    "    X = []\n",
    "    y = []\n",
    "    for i in range(len(df_as_np) - window_size):\n",
    "        row = [r for r in df_as_np[i:i+window_size]]\n",
    "        X.append(row)\n",
    "        label = df_as_np[i+window_size][0]\n",
    "        y.append(label)\n",
    "    return np.array(X), np.array(y)"
   ],
   "id": "f5b0078249c8159c",
   "outputs": [],
   "execution_count": 25
  },
  {
   "metadata": {
    "ExecuteTime": {
     "end_time": "2024-12-13T18:05:04.443516Z",
     "start_time": "2024-12-13T18:05:03.046086Z"
    }
   },
   "cell_type": "code",
   "source": [
    "X2, y2 = df_to_X_y2(temp_df)\n",
    "X2.shape, y2.shape"
   ],
   "id": "bbc1728f135a56f5",
   "outputs": [
    {
     "data": {
      "text/plain": [
       "((70085, 6, 5), (70085,))"
      ]
     },
     "execution_count": 26,
     "metadata": {},
     "output_type": "execute_result"
    }
   ],
   "execution_count": 26
  },
  {
   "metadata": {
    "ExecuteTime": {
     "end_time": "2024-12-13T18:06:50.962831Z",
     "start_time": "2024-12-13T18:06:50.955678Z"
    }
   },
   "cell_type": "code",
   "source": [
    "X2_train, y2_train = X2[:60000], y2[:60000]\n",
    "X2_val, y2_val = X2[60000:], y2[60000:]\n",
    "X2_test, y2_test = X2[65000:], y2[65000:]\n",
    "X2_train.shape, y2_train.shape, X2_val.shape, y2_val.shape, X2_test.shape, y2_test.shape"
   ],
   "id": "e8f2abcf39fad5a5",
   "outputs": [
    {
     "data": {
      "text/plain": [
       "((60000, 6, 5), (60000,), (10085, 6, 5), (10085,), (5085, 6, 5), (5085,))"
      ]
     },
     "execution_count": 27,
     "metadata": {},
     "output_type": "execute_result"
    }
   ],
   "execution_count": 27
  },
  {
   "metadata": {
    "ExecuteTime": {
     "end_time": "2024-12-13T18:12:10.722710Z",
     "start_time": "2024-12-13T18:12:10.710834Z"
    }
   },
   "cell_type": "code",
   "source": [
    "temp_training_mean = np.mean(X2_train[:, :, 0])\n",
    "temp_training_std = np.std(X2_train[:, :, 0])\n",
    "\n",
    "def preprocess(X):\n",
    "    X[:, :, 0] = ( (X[:, :, 0] - temp_training_mean) / temp_training_std )\n",
    "    return X"
   ],
   "id": "4d7cb5d671f1d44e",
   "outputs": [],
   "execution_count": 28
  },
  {
   "metadata": {
    "ExecuteTime": {
     "end_time": "2024-12-13T18:13:00.329080Z",
     "start_time": "2024-12-13T18:13:00.312613Z"
    }
   },
   "cell_type": "code",
   "source": [
    "preprocess(X2_train)\n",
    "preprocess(X2_val)\n",
    "preprocess(X2_test)\n"
   ],
   "id": "31080aa7d2987235",
   "outputs": [],
   "execution_count": 29
  },
  {
   "metadata": {
    "ExecuteTime": {
     "end_time": "2024-12-13T18:14:00.466949Z",
     "start_time": "2024-12-13T18:14:00.386327Z"
    }
   },
   "cell_type": "code",
   "source": [
    "model2 = Sequential()\n",
    "model2.add(InputLayer((6, 5)))\n",
    "model2.add(LSTM(64))\n",
    "model2.add(Dense(8, 'relu'))\n",
    "model2.add(Dense(1, 'linear'))\n",
    "\n",
    "model2.summary()"
   ],
   "id": "deb039ef394d7762",
   "outputs": [
    {
     "data": {
      "text/plain": [
       "\u001B[1mModel: \"sequential_1\"\u001B[0m\n"
      ],
      "text/html": [
       "<pre style=\"white-space:pre;overflow-x:auto;line-height:normal;font-family:Menlo,'DejaVu Sans Mono',consolas,'Courier New',monospace\"><span style=\"font-weight: bold\">Model: \"sequential_1\"</span>\n",
       "</pre>\n"
      ]
     },
     "metadata": {},
     "output_type": "display_data"
    },
    {
     "data": {
      "text/plain": [
       "┏━━━━━━━━━━━━━━━━━━━━━━━━━━━━━━━━━┳━━━━━━━━━━━━━━━━━━━━━━━━┳━━━━━━━━━━━━━━━┓\n",
       "┃\u001B[1m \u001B[0m\u001B[1mLayer (type)                   \u001B[0m\u001B[1m \u001B[0m┃\u001B[1m \u001B[0m\u001B[1mOutput Shape          \u001B[0m\u001B[1m \u001B[0m┃\u001B[1m \u001B[0m\u001B[1m      Param #\u001B[0m\u001B[1m \u001B[0m┃\n",
       "┡━━━━━━━━━━━━━━━━━━━━━━━━━━━━━━━━━╇━━━━━━━━━━━━━━━━━━━━━━━━╇━━━━━━━━━━━━━━━┩\n",
       "│ lstm_1 (\u001B[38;5;33mLSTM\u001B[0m)                   │ (\u001B[38;5;45mNone\u001B[0m, \u001B[38;5;34m64\u001B[0m)             │        \u001B[38;5;34m17,920\u001B[0m │\n",
       "├─────────────────────────────────┼────────────────────────┼───────────────┤\n",
       "│ dense_2 (\u001B[38;5;33mDense\u001B[0m)                 │ (\u001B[38;5;45mNone\u001B[0m, \u001B[38;5;34m8\u001B[0m)              │           \u001B[38;5;34m520\u001B[0m │\n",
       "├─────────────────────────────────┼────────────────────────┼───────────────┤\n",
       "│ dense_3 (\u001B[38;5;33mDense\u001B[0m)                 │ (\u001B[38;5;45mNone\u001B[0m, \u001B[38;5;34m1\u001B[0m)              │             \u001B[38;5;34m9\u001B[0m │\n",
       "└─────────────────────────────────┴────────────────────────┴───────────────┘\n"
      ],
      "text/html": [
       "<pre style=\"white-space:pre;overflow-x:auto;line-height:normal;font-family:Menlo,'DejaVu Sans Mono',consolas,'Courier New',monospace\">┏━━━━━━━━━━━━━━━━━━━━━━━━━━━━━━━━━┳━━━━━━━━━━━━━━━━━━━━━━━━┳━━━━━━━━━━━━━━━┓\n",
       "┃<span style=\"font-weight: bold\"> Layer (type)                    </span>┃<span style=\"font-weight: bold\"> Output Shape           </span>┃<span style=\"font-weight: bold\">       Param # </span>┃\n",
       "┡━━━━━━━━━━━━━━━━━━━━━━━━━━━━━━━━━╇━━━━━━━━━━━━━━━━━━━━━━━━╇━━━━━━━━━━━━━━━┩\n",
       "│ lstm_1 (<span style=\"color: #0087ff; text-decoration-color: #0087ff\">LSTM</span>)                   │ (<span style=\"color: #00d7ff; text-decoration-color: #00d7ff\">None</span>, <span style=\"color: #00af00; text-decoration-color: #00af00\">64</span>)             │        <span style=\"color: #00af00; text-decoration-color: #00af00\">17,920</span> │\n",
       "├─────────────────────────────────┼────────────────────────┼───────────────┤\n",
       "│ dense_2 (<span style=\"color: #0087ff; text-decoration-color: #0087ff\">Dense</span>)                 │ (<span style=\"color: #00d7ff; text-decoration-color: #00d7ff\">None</span>, <span style=\"color: #00af00; text-decoration-color: #00af00\">8</span>)              │           <span style=\"color: #00af00; text-decoration-color: #00af00\">520</span> │\n",
       "├─────────────────────────────────┼────────────────────────┼───────────────┤\n",
       "│ dense_3 (<span style=\"color: #0087ff; text-decoration-color: #0087ff\">Dense</span>)                 │ (<span style=\"color: #00d7ff; text-decoration-color: #00d7ff\">None</span>, <span style=\"color: #00af00; text-decoration-color: #00af00\">1</span>)              │             <span style=\"color: #00af00; text-decoration-color: #00af00\">9</span> │\n",
       "└─────────────────────────────────┴────────────────────────┴───────────────┘\n",
       "</pre>\n"
      ]
     },
     "metadata": {},
     "output_type": "display_data"
    },
    {
     "data": {
      "text/plain": [
       "\u001B[1m Total params: \u001B[0m\u001B[38;5;34m18,449\u001B[0m (72.07 KB)\n"
      ],
      "text/html": [
       "<pre style=\"white-space:pre;overflow-x:auto;line-height:normal;font-family:Menlo,'DejaVu Sans Mono',consolas,'Courier New',monospace\"><span style=\"font-weight: bold\"> Total params: </span><span style=\"color: #00af00; text-decoration-color: #00af00\">18,449</span> (72.07 KB)\n",
       "</pre>\n"
      ]
     },
     "metadata": {},
     "output_type": "display_data"
    },
    {
     "data": {
      "text/plain": [
       "\u001B[1m Trainable params: \u001B[0m\u001B[38;5;34m18,449\u001B[0m (72.07 KB)\n"
      ],
      "text/html": [
       "<pre style=\"white-space:pre;overflow-x:auto;line-height:normal;font-family:Menlo,'DejaVu Sans Mono',consolas,'Courier New',monospace\"><span style=\"font-weight: bold\"> Trainable params: </span><span style=\"color: #00af00; text-decoration-color: #00af00\">18,449</span> (72.07 KB)\n",
       "</pre>\n"
      ]
     },
     "metadata": {},
     "output_type": "display_data"
    },
    {
     "data": {
      "text/plain": [
       "\u001B[1m Non-trainable params: \u001B[0m\u001B[38;5;34m0\u001B[0m (0.00 B)\n"
      ],
      "text/html": [
       "<pre style=\"white-space:pre;overflow-x:auto;line-height:normal;font-family:Menlo,'DejaVu Sans Mono',consolas,'Courier New',monospace\"><span style=\"font-weight: bold\"> Non-trainable params: </span><span style=\"color: #00af00; text-decoration-color: #00af00\">0</span> (0.00 B)\n",
       "</pre>\n"
      ]
     },
     "metadata": {},
     "output_type": "display_data"
    }
   ],
   "execution_count": 30
  },
  {
   "metadata": {
    "ExecuteTime": {
     "end_time": "2024-12-13T18:17:25.059734Z",
     "start_time": "2024-12-13T18:17:25.049910Z"
    }
   },
   "cell_type": "code",
   "source": [
    "cp2 = ModelCheckpoint('model2/model2.keras', save_best_only=True)\n",
    "model2.compile(loss=MeanSquaredError(), optimizer=Adam(learning_rate=0.0001), metrics=[RootMeanSquaredError()])"
   ],
   "id": "fbce37e7f1f4c53b",
   "outputs": [],
   "execution_count": 34
  },
  {
   "metadata": {
    "ExecuteTime": {
     "end_time": "2024-12-13T18:18:31.222558Z",
     "start_time": "2024-12-13T18:17:26.749768Z"
    }
   },
   "cell_type": "code",
   "source": "model2.fit(X2_train, y2_train, validation_data=(X2_val, y2_val), epochs=10, callbacks=[cp2])",
   "id": "117db4fde98b7d6d",
   "outputs": [
    {
     "name": "stdout",
     "output_type": "stream",
     "text": [
      "Epoch 1/10\n",
      "\u001B[1m1875/1875\u001B[0m \u001B[32m━━━━━━━━━━━━━━━━━━━━\u001B[0m\u001B[37m\u001B[0m \u001B[1m9s\u001B[0m 4ms/step - loss: 73.1194 - root_mean_squared_error: 8.2881 - val_loss: 2.2115 - val_root_mean_squared_error: 1.4871\n",
      "Epoch 2/10\n",
      "\u001B[1m1875/1875\u001B[0m \u001B[32m━━━━━━━━━━━━━━━━━━━━\u001B[0m\u001B[37m\u001B[0m \u001B[1m6s\u001B[0m 3ms/step - loss: 2.2076 - root_mean_squared_error: 1.4789 - val_loss: 0.6683 - val_root_mean_squared_error: 0.8175\n",
      "Epoch 3/10\n",
      "\u001B[1m1875/1875\u001B[0m \u001B[32m━━━━━━━━━━━━━━━━━━━━\u001B[0m\u001B[37m\u001B[0m \u001B[1m6s\u001B[0m 3ms/step - loss: 0.8271 - root_mean_squared_error: 0.9090 - val_loss: 0.5027 - val_root_mean_squared_error: 0.7090\n",
      "Epoch 4/10\n",
      "\u001B[1m1875/1875\u001B[0m \u001B[32m━━━━━━━━━━━━━━━━━━━━\u001B[0m\u001B[37m\u001B[0m \u001B[1m6s\u001B[0m 3ms/step - loss: 0.6002 - root_mean_squared_error: 0.7746 - val_loss: 0.4707 - val_root_mean_squared_error: 0.6861\n",
      "Epoch 5/10\n",
      "\u001B[1m1875/1875\u001B[0m \u001B[32m━━━━━━━━━━━━━━━━━━━━\u001B[0m\u001B[37m\u001B[0m \u001B[1m6s\u001B[0m 3ms/step - loss: 0.5418 - root_mean_squared_error: 0.7360 - val_loss: 0.4557 - val_root_mean_squared_error: 0.6750\n",
      "Epoch 6/10\n",
      "\u001B[1m1875/1875\u001B[0m \u001B[32m━━━━━━━━━━━━━━━━━━━━\u001B[0m\u001B[37m\u001B[0m \u001B[1m6s\u001B[0m 3ms/step - loss: 0.5249 - root_mean_squared_error: 0.7244 - val_loss: 0.4374 - val_root_mean_squared_error: 0.6614\n",
      "Epoch 7/10\n",
      "\u001B[1m1875/1875\u001B[0m \u001B[32m━━━━━━━━━━━━━━━━━━━━\u001B[0m\u001B[37m\u001B[0m \u001B[1m6s\u001B[0m 3ms/step - loss: 0.5069 - root_mean_squared_error: 0.7119 - val_loss: 0.4364 - val_root_mean_squared_error: 0.6606\n",
      "Epoch 8/10\n",
      "\u001B[1m1875/1875\u001B[0m \u001B[32m━━━━━━━━━━━━━━━━━━━━\u001B[0m\u001B[37m\u001B[0m \u001B[1m6s\u001B[0m 3ms/step - loss: 0.5102 - root_mean_squared_error: 0.7143 - val_loss: 0.4370 - val_root_mean_squared_error: 0.6611\n",
      "Epoch 9/10\n",
      "\u001B[1m1875/1875\u001B[0m \u001B[32m━━━━━━━━━━━━━━━━━━━━\u001B[0m\u001B[37m\u001B[0m \u001B[1m6s\u001B[0m 3ms/step - loss: 0.5059 - root_mean_squared_error: 0.7112 - val_loss: 0.4348 - val_root_mean_squared_error: 0.6594\n",
      "Epoch 10/10\n",
      "\u001B[1m1875/1875\u001B[0m \u001B[32m━━━━━━━━━━━━━━━━━━━━\u001B[0m\u001B[37m\u001B[0m \u001B[1m6s\u001B[0m 3ms/step - loss: 0.5118 - root_mean_squared_error: 0.7154 - val_loss: 0.4335 - val_root_mean_squared_error: 0.6584\n"
     ]
    },
    {
     "data": {
      "text/plain": [
       "<keras.src.callbacks.history.History at 0x23096e0fb60>"
      ]
     },
     "execution_count": 35,
     "metadata": {},
     "output_type": "execute_result"
    }
   ],
   "execution_count": 35
  },
  {
   "metadata": {
    "ExecuteTime": {
     "end_time": "2024-12-13T18:20:43.406425Z",
     "start_time": "2024-12-13T18:20:42.502081Z"
    }
   },
   "cell_type": "code",
   "source": "plot_predictions1(model2, X2_test, y2_test)",
   "id": "f37aa9b30d526b8",
   "outputs": [
    {
     "name": "stdout",
     "output_type": "stream",
     "text": [
      "\u001B[1m159/159\u001B[0m \u001B[32m━━━━━━━━━━━━━━━━━━━━\u001B[0m\u001B[37m\u001B[0m \u001B[1m1s\u001B[0m 3ms/step\n"
     ]
    },
    {
     "data": {
      "text/plain": [
       "(      Predictions  Actuals\n",
       " 0       13.192564    13.46\n",
       " 1       12.836342    12.93\n",
       " 2       12.383526    12.43\n",
       " 3       12.028895    12.17\n",
       " 4       12.229523    11.55\n",
       " ...           ...      ...\n",
       " 5080    -1.101061    -0.98\n",
       " 5081    -1.621463    -1.40\n",
       " 5082    -1.843318    -2.75\n",
       " 5083    -3.052426    -2.89\n",
       " 5084    -3.181513    -3.93\n",
       " \n",
       " [5085 rows x 2 columns],\n",
       " 0.4642624345304565)"
      ]
     },
     "execution_count": 36,
     "metadata": {},
     "output_type": "execute_result"
    },
    {
     "data": {
      "text/plain": [
       "<Figure size 640x480 with 1 Axes>"
      ],
      "image/png": "[encoded data removed]"
     },
     "metadata": {},
     "output_type": "display_data"
    }
   ],
   "execution_count": 36
  },
  {
   "metadata": {
    "ExecuteTime": {
     "end_time": "2024-12-13T18:52:19.157906Z",
     "start_time": "2024-12-13T18:52:19.135957Z"
    }
   },
   "cell_type": "code",
   "source": [
    "# Multivariate (Adding pressure)\n",
    "p_temp_df = pd.concat([df['p (mbar)'], temp_df], axis=1)\n",
    "p_temp_df.head()"
   ],
   "id": "ec81db0cdbb5093",
   "outputs": [
    {
     "data": {
      "text/plain": [
       "                     p (mbar)  Temperature   Day sin   Day cos  Year sin  \\\n",
       "Date Time                                                                  \n",
       "2009-01-01 01:00:00    996.50        -8.05  0.258819  0.965926  0.010049   \n",
       "2009-01-01 02:00:00    996.62        -8.88  0.500000  0.866025  0.010766   \n",
       "2009-01-01 03:00:00    996.84        -8.81  0.707107  0.707107  0.011483   \n",
       "2009-01-01 04:00:00    996.99        -9.05  0.866025  0.500000  0.012199   \n",
       "2009-01-01 05:00:00    997.46        -9.63  0.965926  0.258819  0.012916   \n",
       "\n",
       "                     Year cos  \n",
       "Date Time                      \n",
       "2009-01-01 01:00:00  0.999950  \n",
       "2009-01-01 02:00:00  0.999942  \n",
       "2009-01-01 03:00:00  0.999934  \n",
       "2009-01-01 04:00:00  0.999926  \n",
       "2009-01-01 05:00:00  0.999917  "
      ],
      "text/html": [
       "<div>\n",
       "<style scoped>\n",
       "    .dataframe tbody tr th:only-of-type {\n",
       "        vertical-align: middle;\n",
       "    }\n",
       "\n",
       "    .dataframe tbody tr th {\n",
       "        vertical-align: top;\n",
       "    }\n",
       "\n",
       "    .dataframe thead th {\n",
       "        text-align: right;\n",
       "    }\n",
       "</style>\n",
       "<table border=\"1\" class=\"dataframe\">\n",
       "  <thead>\n",
       "    <tr style=\"text-align: right;\">\n",
       "      <th></th>\n",
       "      <th>p (mbar)</th>\n",
       "      <th>Temperature</th>\n",
       "      <th>Day sin</th>\n",
       "      <th>Day cos</th>\n",
       "      <th>Year sin</th>\n",
       "      <th>Year cos</th>\n",
       "    </tr>\n",
       "    <tr>\n",
       "      <th>Date Time</th>\n",
       "      <th></th>\n",
       "      <th></th>\n",
       "      <th></th>\n",
       "      <th></th>\n",
       "      <th></th>\n",
       "      <th></th>\n",
       "    </tr>\n",
       "  </thead>\n",
       "  <tbody>\n",
       "    <tr>\n",
       "      <th>2009-01-01 01:00:00</th>\n",
       "      <td>996.50</td>\n",
       "      <td>-8.05</td>\n",
       "      <td>0.258819</td>\n",
       "      <td>0.965926</td>\n",
       "      <td>0.010049</td>\n",
       "      <td>0.999950</td>\n",
       "    </tr>\n",
       "    <tr>\n",
       "      <th>2009-01-01 02:00:00</th>\n",
       "      <td>996.62</td>\n",
       "      <td>-8.88</td>\n",
       "      <td>0.500000</td>\n",
       "      <td>0.866025</td>\n",
       "      <td>0.010766</td>\n",
       "      <td>0.999942</td>\n",
       "    </tr>\n",
       "    <tr>\n",
       "      <th>2009-01-01 03:00:00</th>\n",
       "      <td>996.84</td>\n",
       "      <td>-8.81</td>\n",
       "      <td>0.707107</td>\n",
       "      <td>0.707107</td>\n",
       "      <td>0.011483</td>\n",
       "      <td>0.999934</td>\n",
       "    </tr>\n",
       "    <tr>\n",
       "      <th>2009-01-01 04:00:00</th>\n",
       "      <td>996.99</td>\n",
       "      <td>-9.05</td>\n",
       "      <td>0.866025</td>\n",
       "      <td>0.500000</td>\n",
       "      <td>0.012199</td>\n",
       "      <td>0.999926</td>\n",
       "    </tr>\n",
       "    <tr>\n",
       "      <th>2009-01-01 05:00:00</th>\n",
       "      <td>997.46</td>\n",
       "      <td>-9.63</td>\n",
       "      <td>0.965926</td>\n",
       "      <td>0.258819</td>\n",
       "      <td>0.012916</td>\n",
       "      <td>0.999917</td>\n",
       "    </tr>\n",
       "  </tbody>\n",
       "</table>\n",
       "</div>"
      ]
     },
     "execution_count": 70,
     "metadata": {},
     "output_type": "execute_result"
    }
   ],
   "execution_count": 70
  },
  {
   "metadata": {
    "ExecuteTime": {
     "end_time": "2024-12-13T18:52:20.548598Z",
     "start_time": "2024-12-13T18:52:20.542516Z"
    }
   },
   "cell_type": "code",
   "source": [
    "def df_to_X_y3(df, window_size=7):\n",
    "    df_as_np = df.to_numpy()\n",
    "    X = []\n",
    "    y = []\n",
    "    for i in range(len(df_as_np) - window_size):\n",
    "        row = [r for r in df_as_np[i:i+window_size]]\n",
    "        X.append(row)\n",
    "        label = [df_as_np[i+window_size][0], df_as_np[i+window_size][1]]\n",
    "        y.append(label)\n",
    "    return np.array(X), np.array(y)"
   ],
   "id": "e23b6579390e3940",
   "outputs": [],
   "execution_count": 71
  },
  {
   "metadata": {
    "ExecuteTime": {
     "end_time": "2024-12-13T18:52:23.388279Z",
     "start_time": "2024-12-13T18:52:21.972312Z"
    }
   },
   "cell_type": "code",
   "source": [
    "X3, y3 = df_to_X_y3(p_temp_df)\n",
    "X3.shape, y3.shape\n"
   ],
   "id": "f51207995d9b5e1b",
   "outputs": [
    {
     "data": {
      "text/plain": [
       "((70084, 7, 6), (70084, 2))"
      ]
     },
     "execution_count": 72,
     "metadata": {},
     "output_type": "execute_result"
    }
   ],
   "execution_count": 72
  },
  {
   "metadata": {
    "ExecuteTime": {
     "end_time": "2024-12-13T18:52:24.671157Z",
     "start_time": "2024-12-13T18:52:24.665079Z"
    }
   },
   "cell_type": "code",
   "source": [
    "X3_train, y3_train = X3[:60000], y3[:60000]\n",
    "X3_val, y3_val = X3[60000:65000], y3[60000:65000]\n",
    "X3_test, y3_test = X3[65000:], y3[65000:]\n",
    "X3_train.shape, y3_train.shape, X3_val.shape, y3_val.shape, X3_test.shape, y3_test.shape"
   ],
   "id": "7375e16518b12c1d",
   "outputs": [
    {
     "data": {
      "text/plain": [
       "((60000, 7, 6), (60000, 2), (5000, 7, 6), (5000, 2), (5084, 7, 6), (5084, 2))"
      ]
     },
     "execution_count": 73,
     "metadata": {},
     "output_type": "execute_result"
    }
   ],
   "execution_count": 73
  },
  {
   "metadata": {
    "ExecuteTime": {
     "end_time": "2024-12-13T18:52:25.991283Z",
     "start_time": "2024-12-13T18:52:25.975100Z"
    }
   },
   "cell_type": "code",
   "source": [
    "p_training_mean3 = np.mean(X3_train[:, :, 0])\n",
    "p_training_std3 = np.std(X3_train[:, :, 0])\n",
    "\n",
    "temp_training_mean3 = np.mean(X3_train[:, :, 1])\n",
    "temp_training_std3 = np.std(X3_train[:, :, 1])\n",
    "\n",
    "def preprocess3(X):\n",
    "  X[:, :, 0] = (X[:, :, 0] - p_training_mean3) / p_training_std3\n",
    "  X[:, :, 1] = (X[:, :, 1] - temp_training_mean3) / temp_training_std3\n",
    "\n",
    "def preprocess_output3(y):\n",
    "  y[:, 0] = (y[:, 0] - p_training_mean3) / p_training_std3\n",
    "  y[:, 1] = (y[:, 1] - temp_training_mean3) / temp_training_std3\n",
    "  return y"
   ],
   "id": "a1d7d2a62893befe",
   "outputs": [],
   "execution_count": 74
  },
  {
   "metadata": {
    "ExecuteTime": {
     "end_time": "2024-12-13T18:52:36.104942Z",
     "start_time": "2024-12-13T18:52:36.085650Z"
    }
   },
   "cell_type": "code",
   "source": [
    "preprocess3(X3_train)\n",
    "preprocess3(X3_val)\n",
    "preprocess3(X3_test)\n",
    "\n",
    "preprocess_output3(y3_train)\n",
    "preprocess_output3(y3_val)\n",
    "preprocess_output3(y3_test)\n"
   ],
   "id": "9583cfaf6644ed64",
   "outputs": [
    {
     "data": {
      "text/plain": [
       "array([[-0.7934386 ,  0.41245076],\n",
       "       [-0.76312281,  0.35368268],\n",
       "       [-0.72189335,  0.32312327],\n",
       "       ...,\n",
       "       [ 1.48145784, -1.43051636],\n",
       "       [ 1.41597574, -1.44697142],\n",
       "       [ 1.35049365, -1.56920903]])"
      ]
     },
     "execution_count": 75,
     "metadata": {},
     "output_type": "execute_result"
    }
   ],
   "execution_count": 75
  },
  {
   "metadata": {
    "ExecuteTime": {
     "end_time": "2024-12-13T18:52:39.208330Z",
     "start_time": "2024-12-13T18:52:39.148812Z"
    }
   },
   "cell_type": "code",
   "source": [
    "model3 = Sequential()\n",
    "model3.add(InputLayer((7, 6)))\n",
    "model3.add(LSTM(64))\n",
    "model3.add(Dense(8, 'relu'))\n",
    "model3.add(Dense(2, 'linear'))\n",
    "\n",
    "model3.summary()"
   ],
   "id": "1bae290f91248968",
   "outputs": [
    {
     "data": {
      "text/plain": [
       "\u001B[1mModel: \"sequential_8\"\u001B[0m\n"
      ],
      "text/html": [
       "<pre style=\"white-space:pre;overflow-x:auto;line-height:normal;font-family:Menlo,'DejaVu Sans Mono',consolas,'Courier New',monospace\"><span style=\"font-weight: bold\">Model: \"sequential_8\"</span>\n",
       "</pre>\n"
      ]
     },
     "metadata": {},
     "output_type": "display_data"
    },
    {
     "data": {
      "text/plain": [
       "┏━━━━━━━━━━━━━━━━━━━━━━━━━━━━━━━━━┳━━━━━━━━━━━━━━━━━━━━━━━━┳━━━━━━━━━━━━━━━┓\n",
       "┃\u001B[1m \u001B[0m\u001B[1mLayer (type)                   \u001B[0m\u001B[1m \u001B[0m┃\u001B[1m \u001B[0m\u001B[1mOutput Shape          \u001B[0m\u001B[1m \u001B[0m┃\u001B[1m \u001B[0m\u001B[1m      Param #\u001B[0m\u001B[1m \u001B[0m┃\n",
       "┡━━━━━━━━━━━━━━━━━━━━━━━━━━━━━━━━━╇━━━━━━━━━━━━━━━━━━━━━━━━╇━━━━━━━━━━━━━━━┩\n",
       "│ lstm_8 (\u001B[38;5;33mLSTM\u001B[0m)                   │ (\u001B[38;5;45mNone\u001B[0m, \u001B[38;5;34m64\u001B[0m)             │        \u001B[38;5;34m18,176\u001B[0m │\n",
       "├─────────────────────────────────┼────────────────────────┼───────────────┤\n",
       "│ dense_16 (\u001B[38;5;33mDense\u001B[0m)                │ (\u001B[38;5;45mNone\u001B[0m, \u001B[38;5;34m8\u001B[0m)              │           \u001B[38;5;34m520\u001B[0m │\n",
       "├─────────────────────────────────┼────────────────────────┼───────────────┤\n",
       "│ dense_17 (\u001B[38;5;33mDense\u001B[0m)                │ (\u001B[38;5;45mNone\u001B[0m, \u001B[38;5;34m2\u001B[0m)              │            \u001B[38;5;34m18\u001B[0m │\n",
       "└─────────────────────────────────┴────────────────────────┴───────────────┘\n"
      ],
      "text/html": [
       "<pre style=\"white-space:pre;overflow-x:auto;line-height:normal;font-family:Menlo,'DejaVu Sans Mono',consolas,'Courier New',monospace\">┏━━━━━━━━━━━━━━━━━━━━━━━━━━━━━━━━━┳━━━━━━━━━━━━━━━━━━━━━━━━┳━━━━━━━━━━━━━━━┓\n",
       "┃<span style=\"font-weight: bold\"> Layer (type)                    </span>┃<span style=\"font-weight: bold\"> Output Shape           </span>┃<span style=\"font-weight: bold\">       Param # </span>┃\n",
       "┡━━━━━━━━━━━━━━━━━━━━━━━━━━━━━━━━━╇━━━━━━━━━━━━━━━━━━━━━━━━╇━━━━━━━━━━━━━━━┩\n",
       "│ lstm_8 (<span style=\"color: #0087ff; text-decoration-color: #0087ff\">LSTM</span>)                   │ (<span style=\"color: #00d7ff; text-decoration-color: #00d7ff\">None</span>, <span style=\"color: #00af00; text-decoration-color: #00af00\">64</span>)             │        <span style=\"color: #00af00; text-decoration-color: #00af00\">18,176</span> │\n",
       "├─────────────────────────────────┼────────────────────────┼───────────────┤\n",
       "│ dense_16 (<span style=\"color: #0087ff; text-decoration-color: #0087ff\">Dense</span>)                │ (<span style=\"color: #00d7ff; text-decoration-color: #00d7ff\">None</span>, <span style=\"color: #00af00; text-decoration-color: #00af00\">8</span>)              │           <span style=\"color: #00af00; text-decoration-color: #00af00\">520</span> │\n",
       "├─────────────────────────────────┼────────────────────────┼───────────────┤\n",
       "│ dense_17 (<span style=\"color: #0087ff; text-decoration-color: #0087ff\">Dense</span>)                │ (<span style=\"color: #00d7ff; text-decoration-color: #00d7ff\">None</span>, <span style=\"color: #00af00; text-decoration-color: #00af00\">2</span>)              │            <span style=\"color: #00af00; text-decoration-color: #00af00\">18</span> │\n",
       "└─────────────────────────────────┴────────────────────────┴───────────────┘\n",
       "</pre>\n"
      ]
     },
     "metadata": {},
     "output_type": "display_data"
    },
    {
     "data": {
      "text/plain": [
       "\u001B[1m Total params: \u001B[0m\u001B[38;5;34m18,714\u001B[0m (73.10 KB)\n"
      ],
      "text/html": [
       "<pre style=\"white-space:pre;overflow-x:auto;line-height:normal;font-family:Menlo,'DejaVu Sans Mono',consolas,'Courier New',monospace\"><span style=\"font-weight: bold\"> Total params: </span><span style=\"color: #00af00; text-decoration-color: #00af00\">18,714</span> (73.10 KB)\n",
       "</pre>\n"
      ]
     },
     "metadata": {},
     "output_type": "display_data"
    },
    {
     "data": {
      "text/plain": [
       "\u001B[1m Trainable params: \u001B[0m\u001B[38;5;34m18,714\u001B[0m (73.10 KB)\n"
      ],
      "text/html": [
       "<pre style=\"white-space:pre;overflow-x:auto;line-height:normal;font-family:Menlo,'DejaVu Sans Mono',consolas,'Courier New',monospace\"><span style=\"font-weight: bold\"> Trainable params: </span><span style=\"color: #00af00; text-decoration-color: #00af00\">18,714</span> (73.10 KB)\n",
       "</pre>\n"
      ]
     },
     "metadata": {},
     "output_type": "display_data"
    },
    {
     "data": {
      "text/plain": [
       "\u001B[1m Non-trainable params: \u001B[0m\u001B[38;5;34m0\u001B[0m (0.00 B)\n"
      ],
      "text/html": [
       "<pre style=\"white-space:pre;overflow-x:auto;line-height:normal;font-family:Menlo,'DejaVu Sans Mono',consolas,'Courier New',monospace\"><span style=\"font-weight: bold\"> Non-trainable params: </span><span style=\"color: #00af00; text-decoration-color: #00af00\">0</span> (0.00 B)\n",
       "</pre>\n"
      ]
     },
     "metadata": {},
     "output_type": "display_data"
    }
   ],
   "execution_count": 76
  },
  {
   "metadata": {
    "ExecuteTime": {
     "end_time": "2024-12-13T18:52:40.463822Z",
     "start_time": "2024-12-13T18:52:40.454583Z"
    }
   },
   "cell_type": "code",
   "source": [
    "cp3 = ModelCheckpoint('model3/model3.keras', save_best_only=True)\n",
    "model3.compile(loss=MeanSquaredError(), optimizer=Adam(learning_rate=0.0001), metrics=[RootMeanSquaredError()])"
   ],
   "id": "7ab2e7d6e1290a8b",
   "outputs": [],
   "execution_count": 77
  },
  {
   "metadata": {
    "ExecuteTime": {
     "end_time": "2024-12-13T18:53:58.122553Z",
     "start_time": "2024-12-13T18:52:42.018898Z"
    }
   },
   "cell_type": "code",
   "source": "model3.fit(X3_train, y3_train, validation_data=(X3_val, y3_val), epochs=10, callbacks=[cp3])",
   "id": "266eff0997661b78",
   "outputs": [
    {
     "name": "stdout",
     "output_type": "stream",
     "text": [
      "Epoch 1/10\n",
      "\u001B[1m1875/1875\u001B[0m \u001B[32m━━━━━━━━━━━━━━━━━━━━\u001B[0m\u001B[37m\u001B[0m \u001B[1m9s\u001B[0m 4ms/step - loss: 0.3442 - root_mean_squared_error: 0.5584 - val_loss: 0.0331 - val_root_mean_squared_error: 0.1821\n",
      "Epoch 2/10\n",
      "\u001B[1m1875/1875\u001B[0m \u001B[32m━━━━━━━━━━━━━━━━━━━━\u001B[0m\u001B[37m\u001B[0m \u001B[1m7s\u001B[0m 4ms/step - loss: 0.0285 - root_mean_squared_error: 0.1686 - val_loss: 0.0170 - val_root_mean_squared_error: 0.1302\n",
      "Epoch 3/10\n",
      "\u001B[1m1875/1875\u001B[0m \u001B[32m━━━━━━━━━━━━━━━━━━━━\u001B[0m\u001B[37m\u001B[0m \u001B[1m7s\u001B[0m 4ms/step - loss: 0.0139 - root_mean_squared_error: 0.1179 - val_loss: 0.0076 - val_root_mean_squared_error: 0.0871\n",
      "Epoch 4/10\n",
      "\u001B[1m1875/1875\u001B[0m \u001B[32m━━━━━━━━━━━━━━━━━━━━\u001B[0m\u001B[37m\u001B[0m \u001B[1m7s\u001B[0m 4ms/step - loss: 0.0081 - root_mean_squared_error: 0.0900 - val_loss: 0.0056 - val_root_mean_squared_error: 0.0748\n",
      "Epoch 5/10\n",
      "\u001B[1m1875/1875\u001B[0m \u001B[32m━━━━━━━━━━━━━━━━━━━━\u001B[0m\u001B[37m\u001B[0m \u001B[1m8s\u001B[0m 4ms/step - loss: 0.0066 - root_mean_squared_error: 0.0810 - val_loss: 0.0046 - val_root_mean_squared_error: 0.0678\n",
      "Epoch 6/10\n",
      "\u001B[1m1875/1875\u001B[0m \u001B[32m━━━━━━━━━━━━━━━━━━━━\u001B[0m\u001B[37m\u001B[0m \u001B[1m8s\u001B[0m 4ms/step - loss: 0.0054 - root_mean_squared_error: 0.0735 - val_loss: 0.0041 - val_root_mean_squared_error: 0.0640\n",
      "Epoch 7/10\n",
      "\u001B[1m1875/1875\u001B[0m \u001B[32m━━━━━━━━━━━━━━━━━━━━\u001B[0m\u001B[37m\u001B[0m \u001B[1m7s\u001B[0m 4ms/step - loss: 0.0051 - root_mean_squared_error: 0.0711 - val_loss: 0.0039 - val_root_mean_squared_error: 0.0621\n",
      "Epoch 8/10\n",
      "\u001B[1m1875/1875\u001B[0m \u001B[32m━━━━━━━━━━━━━━━━━━━━\u001B[0m\u001B[37m\u001B[0m \u001B[1m7s\u001B[0m 4ms/step - loss: 0.0046 - root_mean_squared_error: 0.0675 - val_loss: 0.0038 - val_root_mean_squared_error: 0.0616\n",
      "Epoch 9/10\n",
      "\u001B[1m1875/1875\u001B[0m \u001B[32m━━━━━━━━━━━━━━━━━━━━\u001B[0m\u001B[37m\u001B[0m \u001B[1m7s\u001B[0m 4ms/step - loss: 0.0044 - root_mean_squared_error: 0.0664 - val_loss: 0.0041 - val_root_mean_squared_error: 0.0640\n",
      "Epoch 10/10\n",
      "\u001B[1m1875/1875\u001B[0m \u001B[32m━━━━━━━━━━━━━━━━━━━━\u001B[0m\u001B[37m\u001B[0m \u001B[1m7s\u001B[0m 4ms/step - loss: 0.0045 - root_mean_squared_error: 0.0673 - val_loss: 0.0039 - val_root_mean_squared_error: 0.0626\n"
     ]
    },
    {
     "data": {
      "text/plain": [
       "<keras.src.callbacks.history.History at 0x2309da35a60>"
      ]
     },
     "execution_count": 78,
     "metadata": {},
     "output_type": "execute_result"
    }
   ],
   "execution_count": 78
  },
  {
   "metadata": {
    "ExecuteTime": {
     "end_time": "2024-12-13T18:57:22.695631Z",
     "start_time": "2024-12-13T18:57:22.689494Z"
    }
   },
   "cell_type": "code",
   "source": [
    "def plot_predictions2(model, X, y, start=0, end=100):\n",
    "    predictions = model.predict(X)\n",
    "    p_preds, temp_preds = predictions[:, 0], predictions[:, 1]\n",
    "    p_actuals , temp_actuals = y[:, 0], y[:, 1]\n",
    "    df = pd.DataFrame(data={\n",
    "        'Temperature Predictions' : temp_preds,\n",
    "        'Temperature Actuals' : temp_actuals,\n",
    "        'Pressure Predictions' : p_preds,\n",
    "        'Pressure Actuals' : p_actuals\n",
    "    })\n",
    "    plt.plot(df['Temperature Predictions'][start:end])\n",
    "    plt.plot(df['Temperature Actuals'][start:end])\n",
    "    plt.plot(df['Pressure Predictions'][start:end])\n",
    "    plt.plot(df['Pressure Actuals'][start:end])\n",
    "    return df[start:end]"
   ],
   "id": "17ade18844aa2f20",
   "outputs": [],
   "execution_count": 79
  },
  {
   "metadata": {
    "ExecuteTime": {
     "end_time": "2024-12-13T18:57:46.813168Z",
     "start_time": "2024-12-13T18:57:45.992665Z"
    }
   },
   "cell_type": "code",
   "source": "plot_predictions2(model3, X3_test, y3_test)",
   "id": "cb8ea2b9b772ea48",
   "outputs": [
    {
     "name": "stdout",
     "output_type": "stream",
     "text": [
      "\u001B[1m159/159\u001B[0m \u001B[32m━━━━━━━━━━━━━━━━━━━━\u001B[0m\u001B[37m\u001B[0m \u001B[1m1s\u001B[0m 3ms/step\n"
     ]
    },
    {
     "data": {
      "text/plain": [
       "    Temperature Predictions  Temperature Actuals  Pressure Predictions  \\\n",
       "0                  0.403446             0.412451             -0.796454   \n",
       "1                  0.358579             0.353683             -0.788523   \n",
       "2                  0.321331             0.323123             -0.756995   \n",
       "3                  0.329733             0.250251             -0.705086   \n",
       "4                  0.294641             0.254952             -0.618100   \n",
       "..                      ...                  ...                   ...   \n",
       "95                 0.698588             0.716869             -0.414789   \n",
       "96                 0.652894             0.687485             -0.420421   \n",
       "97                 0.633717             0.663978             -0.406302   \n",
       "98                 0.640798             0.641646             -0.399077   \n",
       "99                 0.662353             0.653400             -0.392462   \n",
       "\n",
       "    Pressure Actuals  \n",
       "0          -0.793439  \n",
       "1          -0.763123  \n",
       "2          -0.721893  \n",
       "3          -0.652773  \n",
       "4          -0.652773  \n",
       "..               ...  \n",
       "95         -0.416310  \n",
       "96         -0.399333  \n",
       "97         -0.399333  \n",
       "98         -0.400546  \n",
       "99         -0.369018  \n",
       "\n",
       "[100 rows x 4 columns]"
      ],
      "text/html": [
       "<div>\n",
       "<style scoped>\n",
       "    .dataframe tbody tr th:only-of-type {\n",
       "        vertical-align: middle;\n",
       "    }\n",
       "\n",
       "    .dataframe tbody tr th {\n",
       "        vertical-align: top;\n",
       "    }\n",
       "\n",
       "    .dataframe thead th {\n",
       "        text-align: right;\n",
       "    }\n",
       "</style>\n",
       "<table border=\"1\" class=\"dataframe\">\n",
       "  <thead>\n",
       "    <tr style=\"text-align: right;\">\n",
       "      <th></th>\n",
       "      <th>Temperature Predictions</th>\n",
       "      <th>Temperature Actuals</th>\n",
       "      <th>Pressure Predictions</th>\n",
       "      <th>Pressure Actuals</th>\n",
       "    </tr>\n",
       "  </thead>\n",
       "  <tbody>\n",
       "    <tr>\n",
       "      <th>0</th>\n",
       "      <td>0.403446</td>\n",
       "      <td>0.412451</td>\n",
       "      <td>-0.796454</td>\n",
       "      <td>-0.793439</td>\n",
       "    </tr>\n",
       "    <tr>\n",
       "      <th>1</th>\n",
       "      <td>0.358579</td>\n",
       "      <td>0.353683</td>\n",
       "      <td>-0.788523</td>\n",
       "      <td>-0.763123</td>\n",
       "    </tr>\n",
       "    <tr>\n",
       "      <th>2</th>\n",
       "      <td>0.321331</td>\n",
       "      <td>0.323123</td>\n",
       "      <td>-0.756995</td>\n",
       "      <td>-0.721893</td>\n",
       "    </tr>\n",
       "    <tr>\n",
       "      <th>3</th>\n",
       "      <td>0.329733</td>\n",
       "      <td>0.250251</td>\n",
       "      <td>-0.705086</td>\n",
       "      <td>-0.652773</td>\n",
       "    </tr>\n",
       "    <tr>\n",
       "      <th>4</th>\n",
       "      <td>0.294641</td>\n",
       "      <td>0.254952</td>\n",
       "      <td>-0.618100</td>\n",
       "      <td>-0.652773</td>\n",
       "    </tr>\n",
       "    <tr>\n",
       "      <th>...</th>\n",
       "      <td>...</td>\n",
       "      <td>...</td>\n",
       "      <td>...</td>\n",
       "      <td>...</td>\n",
       "    </tr>\n",
       "    <tr>\n",
       "      <th>95</th>\n",
       "      <td>0.698588</td>\n",
       "      <td>0.716869</td>\n",
       "      <td>-0.414789</td>\n",
       "      <td>-0.416310</td>\n",
       "    </tr>\n",
       "    <tr>\n",
       "      <th>96</th>\n",
       "      <td>0.652894</td>\n",
       "      <td>0.687485</td>\n",
       "      <td>-0.420421</td>\n",
       "      <td>-0.399333</td>\n",
       "    </tr>\n",
       "    <tr>\n",
       "      <th>97</th>\n",
       "      <td>0.633717</td>\n",
       "      <td>0.663978</td>\n",
       "      <td>-0.406302</td>\n",
       "      <td>-0.399333</td>\n",
       "    </tr>\n",
       "    <tr>\n",
       "      <th>98</th>\n",
       "      <td>0.640798</td>\n",
       "      <td>0.641646</td>\n",
       "      <td>-0.399077</td>\n",
       "      <td>-0.400546</td>\n",
       "    </tr>\n",
       "    <tr>\n",
       "      <th>99</th>\n",
       "      <td>0.662353</td>\n",
       "      <td>0.653400</td>\n",
       "      <td>-0.392462</td>\n",
       "      <td>-0.369018</td>\n",
       "    </tr>\n",
       "  </tbody>\n",
       "</table>\n",
       "<p>100 rows × 4 columns</p>\n",
       "</div>"
      ]
     },
     "execution_count": 80,
     "metadata": {},
     "output_type": "execute_result"
    },
    {
     "data": {
      "text/plain": [
       "<Figure size 640x480 with 1 Axes>"
      ],
      "image/png": "[encoded data removed]"
     },
     "metadata": {},
     "output_type": "display_data"
    }
   ],
   "execution_count": 80
  },
  {
   "metadata": {},
   "cell_type": "code",
   "outputs": [],
   "execution_count": null,
   "source": "    ",
   "id": "7b084834be9ba437"
  }
 ],
 "metadata": {
  "kernelspec": {
   "display_name": "Python 3",
   "language": "python",
   "name": "python3"
  },
  "language_info": {
   "codemirror_mode": {
    "name": "ipython",
    "version": 2
   },
   "file_extension": ".py",
   "mimetype": "text/x-python",
   "name": "python",
   "nbconvert_exporter": "python",
   "pygments_lexer": "ipython2",
   "version": "2.7.6"
  }
 },
 "nbformat": 4,
 "nbformat_minor": 5
}
